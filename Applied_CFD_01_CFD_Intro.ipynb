{
 "cells": [
  {
   "cell_type": "markdown",
   "metadata": {},
   "source": [
    "![Imagen](http://www.eafit.edu.co/SiteCollectionImages/logo.png?raw=true \"\")\n",
    "\n",
    "\n",
    "<h1 align=\"center\">Dinámica de Fluidos Computacional Aplicada - IM0642</h1>\n",
    "\n",
    "<h1 align=\"center\">Introducción a la CFD, Proceso de simulación</h1>\n",
    "\n",
    "<h1 align=\"center\">ESCUELA DE INGENIERÍA</h1>\n",
    "\n",
    "<h1 align=\"center\">Especialización en Turbomáquinas</h1>\n",
    "\n",
    "<h1 align=\"center\">MEDELLÍN - COLOMBIA </h1>\n",
    "\n",
    "<h1 align=\"center\">2021/01 </h1>"
   ]
  },
  {
   "cell_type": "markdown",
   "metadata": {},
   "source": [
    "<table>\n",
    " <tr align=left><td><img align=left src=\"https://github.com/carlosalvarezh/CFD_Applied/blob/master/figs/CC-BY.png?raw=true\">\n",
    " <td>Text provided under a Creative Commons Attribution license, CC-BY. All code is made available under the FSF-approved MIT license.(c) Carlos Alberto Alvarez Henao</td>\n",
    "</table>\n"
   ]
  },
  {
   "cell_type": "markdown",
   "metadata": {
    "slideshow": {
     "slide_type": "subslide"
    }
   },
   "source": [
    "*** \n",
    "\n",
    "***Docente:*** Carlos Alberto Álvarez Henao, I.C. D.Sc.\n",
    "\n",
    "***e-mail:*** calvar52@eafit.edu.co\n",
    "\n",
    "***skype:*** carlos.alberto.alvarez.henao\n",
    "\n",
    "***Herramienta:*** [Jupyter](http://jupyter.org/)\n",
    "\n",
    "***Kernel:*** Python 3.8\n",
    "\n",
    "\n",
    "***"
   ]
  },
  {
   "cell_type": "markdown",
   "metadata": {},
   "source": [
    "<a id='TOC'></a>"
   ]
  },
  {
   "cell_type": "markdown",
   "metadata": {
    "toc": true
   },
   "source": [
    "<h1>Table of Contents<span class=\"tocSkip\"></span></h1>\n",
    "<div class=\"toc\"><ul class=\"toc-item\"><li><span><a href=\"#Introductión-to-CFD\" data-toc-modified-id=\"Introductión-to-CFD-1\"><span class=\"toc-item-num\">1&nbsp;&nbsp;</span>Introductión to CFD</a></span><ul class=\"toc-item\"><li><span><a href=\"#Mathematical-and-Computational-Model\" data-toc-modified-id=\"Mathematical-and-Computational-Model-1.1\"><span class=\"toc-item-num\">1.1&nbsp;&nbsp;</span>Mathematical and Computational Model</a></span></li><li><span><a href=\"#Example-01:\" data-toc-modified-id=\"Example-01:-1.2\"><span class=\"toc-item-num\">1.2&nbsp;&nbsp;</span>Example 01:</a></span></li><li><span><a href=\"#General-Strategy:\" data-toc-modified-id=\"General-Strategy:-1.3\"><span class=\"toc-item-num\">1.3&nbsp;&nbsp;</span>General Strategy:</a></span></li><li><span><a href=\"#Experiment-vs-Simulations\" data-toc-modified-id=\"Experiment-vs-Simulations-1.4\"><span class=\"toc-item-num\">1.4&nbsp;&nbsp;</span>Experiment vs Simulations</a></span></li><li><span><a href=\"#Fluids-Characteristics\" data-toc-modified-id=\"Fluids-Characteristics-1.5\"><span class=\"toc-item-num\">1.5&nbsp;&nbsp;</span>Fluids Characteristics</a></span><ul class=\"toc-item\"><li><span><a href=\"#Macroscopic-Properties\" data-toc-modified-id=\"Macroscopic-Properties-1.5.1\"><span class=\"toc-item-num\">1.5.1&nbsp;&nbsp;</span>Macroscopic Properties</a></span></li><li><span><a href=\"#Classsification-of-fluid-flows\" data-toc-modified-id=\"Classsification-of-fluid-flows-1.5.2\"><span class=\"toc-item-num\">1.5.2&nbsp;&nbsp;</span>Classsification of fluid flows</a></span></li></ul></li></ul></li><li><span><a href=\"#How-does-CFD-make-predictions?\" data-toc-modified-id=\"How-does-CFD-make-predictions?-2\"><span class=\"toc-item-num\">2&nbsp;&nbsp;</span>How does CFD make predictions?</a></span><ul class=\"toc-item\"><li><span><a href=\"#CFD-analysis-process\" data-toc-modified-id=\"CFD-analysis-process-2.1\"><span class=\"toc-item-num\">2.1&nbsp;&nbsp;</span>CFD analysis process</a></span></li><li><span><a href=\"#Problem-statement\" data-toc-modified-id=\"Problem-statement-2.2\"><span class=\"toc-item-num\">2.2&nbsp;&nbsp;</span>Problem statement</a></span></li><li><span><a href=\"#Mathematical-model\" data-toc-modified-id=\"Mathematical-model-2.3\"><span class=\"toc-item-num\">2.3&nbsp;&nbsp;</span>Mathematical model</a></span></li><li><span><a href=\"#Discretization-process\" data-toc-modified-id=\"Discretization-process-2.4\"><span class=\"toc-item-num\">2.4&nbsp;&nbsp;</span>Discretization process</a></span></li><li><span><a href=\"#Iterative-solution-strategy\" data-toc-modified-id=\"Iterative-solution-strategy-2.5\"><span class=\"toc-item-num\">2.5&nbsp;&nbsp;</span>Iterative solution strategy</a></span></li></ul></li><li><span><a href=\"#CFD-simulations\" data-toc-modified-id=\"CFD-simulations-3\"><span class=\"toc-item-num\">3&nbsp;&nbsp;</span><em>CFD</em> simulations</a></span><ul class=\"toc-item\"><li><span><a href=\"#Postprocessing-and-analysis\" data-toc-modified-id=\"Postprocessing-and-analysis-3.1\"><span class=\"toc-item-num\">3.1&nbsp;&nbsp;</span>Postprocessing and analysis</a></span></li><li><span><a href=\"#Uncertainty-and-error\" data-toc-modified-id=\"Uncertainty-and-error-3.2\"><span class=\"toc-item-num\">3.2&nbsp;&nbsp;</span>Uncertainty and error</a></span></li><li><span><a href=\"#Classification-of-errors\" data-toc-modified-id=\"Classification-of-errors-3.3\"><span class=\"toc-item-num\">3.3&nbsp;&nbsp;</span>Classification of errors</a></span></li><li><span><a href=\"#Verification-of-CFD-codes\" data-toc-modified-id=\"Verification-of-CFD-codes-3.4\"><span class=\"toc-item-num\">3.4&nbsp;&nbsp;</span>Verification of <em>CFD</em> codes</a></span></li><li><span><a href=\"#Validation-of-CFD-models\" data-toc-modified-id=\"Validation-of-CFD-models-3.5\"><span class=\"toc-item-num\">3.5&nbsp;&nbsp;</span>Validation of <em>CFD</em> models</a></span></li><li><span><a href=\"#Available-CFD-software\" data-toc-modified-id=\"Available-CFD-software-3.6\"><span class=\"toc-item-num\">3.6&nbsp;&nbsp;</span>Available CFD software</a></span></li></ul></li></ul></div>"
   ]
  },
  {
   "cell_type": "markdown",
   "metadata": {},
   "source": [
    "<p float=\"center\">\n",
    "  <img src=\"https://github.com/carlosalvarezh/CFD_Applied/blob/master/figs/C01_Img01.gif?raw=true\" width=\"350\" />\n",
    "</p>\n"
   ]
  },
  {
   "cell_type": "markdown",
   "metadata": {},
   "source": [
    "## Introductión to CFD"
   ]
  },
  {
   "cell_type": "markdown",
   "metadata": {
    "slideshow": {
     "slide_type": "slide"
    }
   },
   "source": [
    "- Fluid (gas and liquid) flows are governed by Partial Differential Equations ($PDE$) which represent conservation laws for the $mass$, $momentum$, and $energy$.\n",
    "\n",
    "\n",
    "- Computational Fluid Dynamics ($CFD$) is the art of replacing such $PDE$ systems by a set of algebraic equations which can be solved using digital computers\n",
    "\n",
    "\n",
    "- Provides a qualitative (and sometimes even quantitative) prediction of fluid flows by means of:\n",
    "  - Mathematical modeling (partial differential equations)\n",
    "  - Numerical methods (discretization and solution techniques)\n",
    "  - Software tools (solvers, pre- and postprocessing utilities)\n",
    "  - $CFD$ enables scientists and engineers to perform ‘numerical experiments’ (i.e. computer simulations) in a ‘virtual flow laboratory’\n"
   ]
  },
  {
   "cell_type": "markdown",
   "metadata": {},
   "source": [
    "[Volver a la Tabla de Contenido](#TOC)"
   ]
  },
  {
   "cell_type": "markdown",
   "metadata": {},
   "source": [
    "### Mathematical and Computational Model"
   ]
  },
  {
   "cell_type": "markdown",
   "metadata": {
    "slideshow": {
     "slide_type": "slide"
    }
   },
   "source": [
    "<strong>- Mathematical Model:</strong> Collection of mathematical constructions that provide abstractions of a physical event consistent with a scientific theory proposed to cover that event.\n",
    "\n",
    "\n",
    "<strong>- Computational Model:</strong> Discrete version of a mathematical model that has been designed to be implemented in a machine."
   ]
  },
  {
   "attachments": {
    "ProcesoSimulacion.PNG": {
     "image/png": "[encoded data removed]"
    }
   },
   "cell_type": "markdown",
   "metadata": {
    "slideshow": {
     "slide_type": "subslide"
    }
   },
   "source": [
    "![ProcesoSimulacion.PNG](attachment:ProcesoSimulacion.PNG)"
   ]
  },
  {
   "attachments": {
    "ProcesoSimulacion2.PNG": {
     "image/png": "[encoded data removed]"
    }
   },
   "cell_type": "markdown",
   "metadata": {
    "slideshow": {
     "slide_type": "subslide"
    }
   },
   "source": [
    "![ProcesoSimulacion2.PNG](attachment:ProcesoSimulacion2.PNG)"
   ]
  },
  {
   "cell_type": "markdown",
   "metadata": {},
   "source": [
    "[Volver a la Tabla de Contenido](#TOC)"
   ]
  },
  {
   "cell_type": "markdown",
   "metadata": {
    "slideshow": {
     "slide_type": "slide"
    }
   },
   "source": [
    "### Example 01: \n",
    "\n",
    "\n",
    "From Newton's Second Law:\n",
    "\n",
    "$$\\vec{F}  = m  \\vec{a}$$\n",
    "\n",
    "Clearing $\\vec{a}$ and representing it as the rate of change of velocity, $\\vec{v}$, with respect to time, $t$.\n",
    "\n",
    "\n",
    "$$\\frac{d\\vec{v}}{dt} = \\frac{\\vec{F}}{m}$$\n",
    "\n",
    "$$\\vec{F} = \\vec{FD} + \\vec{FU}$$\n",
    "\n",
    "$$\\vec{FD} = m  \\vec{g}$$\n",
    "\n",
    "$$\\vec{FU} = -c  \\vec{v}$$\n",
    "\n",
    "$$\\frac{d\\vec{v}}{dt} = \\frac{(m\\vec{g} - c\\vec{v})}{m}$$"
   ]
  },
  {
   "cell_type": "markdown",
   "metadata": {
    "slideshow": {
     "slide_type": "subslide"
    }
   },
   "source": [
    "Simplifying\n",
    "\n",
    "$$\\frac{d\\vec{v}}{dt} = \\vec{g} - c \\frac{\\vec{v}}{m}$$\n",
    "\n",
    "$EDO$ that relates the acceleration of a falling body, with the forces acting on it.\n",
    "\n",
    "- If the object is initially at rest $\\left(t = 0, v(t=0) = 0\\right)$:\n",
    "\n",
    "$$v(t) = \\frac{m\\vec{g}}{c}\\left(1 - e^{-\\frac{c}{m}t}\\right)$$\n",
    "\n",
    "\n",
    "> <strong>Statement:</strong> A parachutist with mass, $m = 68.1 kg$ jumps from a fixed balloon. Calculate the speed before opening the parachute. The coefficient of resistance is approximately $c = 12.5 kg / s$. Acceleration due to gravity $\\vec{g} = 9.8 m/s2$."
   ]
  },
  {
   "cell_type": "markdown",
   "metadata": {
    "slideshow": {
     "slide_type": "subslide"
    }
   },
   "source": [
    "<strong>- Analitic Solution (exact solution):</strong>\n",
    "\n",
    "Substituting the values in the previous equation:\n",
    "\n",
    "$$v(t) = \\frac{9.8 \\times 68.1}{12.5}\\left(1 - e^{-\\frac{12.5}{68.1}t}\\right)$$"
   ]
  },
  {
   "cell_type": "code",
   "execution_count": null,
   "metadata": {
    "slideshow": {
     "slide_type": "subslide"
    }
   },
   "outputs": [],
   "source": [
    "# <-- comments in python are denoted by the pound sign, like this one\n",
    "\n",
    "import numpy as np               # import the array library\n",
    "import matplotlib.pyplot as plt  # import plotting library"
   ]
  },
  {
   "cell_type": "code",
   "execution_count": null,
   "metadata": {
    "slideshow": {
     "slide_type": "subslide"
    }
   },
   "outputs": [],
   "source": [
    "# Constants\n",
    "\n",
    "m = 68.1\n",
    "c = 12.5\n",
    "g = 9.78\n",
    "dt = 1.0\n",
    "n = 50\n",
    "\n",
    "cte1 = m / c\n",
    "cte2 = 1.0 / cte1"
   ]
  },
  {
   "cell_type": "code",
   "execution_count": null,
   "metadata": {
    "slideshow": {
     "slide_type": "subslide"
    }
   },
   "outputs": [],
   "source": [
    "# Exact Solution Plot:\n",
    "\n",
    "def f(t,cte1,cte2):\n",
    "    return g*cte1*(1-np.exp(-cte2*t))\n",
    "\n",
    "t = np.arange(0.0, n+1, dt)\n",
    "plt.xlabel (r\"t\")\n",
    "plt.ylabel (r'$v_{ex}(t)$')\n",
    "plt.title (r'$t$ vs $v_{ex}(t)$')\n",
    "plt.plot(t, f(t,cte1,cte2))\n",
    "plt.grid(True)\n",
    "plt.show()"
   ]
  },
  {
   "cell_type": "markdown",
   "metadata": {
    "slideshow": {
     "slide_type": "subslide"
    }
   },
   "source": [
    "<strong>- Numerical Solution (Discrete Solution):</strong>\n",
    "\n",
    "Approximating the rate of change of speed versus time:\n",
    "\n",
    "$$\\frac{dv}{dt} \\approx \\frac{\\Delta v}{\\Delta t}=\\frac{v(t_{i+1})-v(t_i)}{t_{i+1}-t_i}$$\n",
    "\n",
    "from calculus:\n",
    "\n",
    "$$\\frac{dv}{dt} = \\lim_{\\Delta t \\rightarrow  0} \\frac{\\Delta v}{\\Delta t}$$\n",
    "\n",
    "This equation is called $\\textbf{Divided Finite Difference}$, and is an approximation of the derivative in time $t_i$.\n",
    "\n",
    "Substituting in the approximate equation:\n",
    "\n",
    "$$\\frac{v(t_{i+1})-v(t_i)}{t_{i+1}-t_i}=g-\\frac{c}{m}v(t_i)$$\n",
    "\n",
    "rearranging:\n",
    "\n",
    "$$v(t_{i+1})=v(t_{i})+\\left(g-\\frac{c}{m}v(t_{i})\\right)\\left(t_{i+1}-t_{i}\\right)$$"
   ]
  },
  {
   "cell_type": "markdown",
   "metadata": {
    "slideshow": {
     "slide_type": "subslide"
    }
   },
   "source": [
    "The meaning of the above equation can be summarized as follows:\n",
    "\n",
    "\n",
    "$$\\text{New value = Previous value + slope} \\times \\text{Step size}$$\n",
    "\n",
    "At the beginning of the calculations ($t = 0$), the parachute velocity is equal to zero ($0$). With this information and the given parameter values, the last equation can be used to calculate the velocity at each of the following times."
   ]
  },
  {
   "cell_type": "code",
   "execution_count": null,
   "metadata": {
    "slideshow": {
     "slide_type": "subslide"
    }
   },
   "outputs": [],
   "source": [
    "# Approximate Solution (Discrete Solution)\n",
    "\n",
    "t = np.arange(0.0, n+1, dt)\n",
    "vap = np.zeros(n+1)\n",
    "dt = t[1]-t[0]\n",
    "\n",
    "for i in range(1,n+1):\n",
    "    vap[i] = vap[i-1] + (g-cte2*vap[i-1])*dt\n",
    "\n",
    "plt.xlabel (r\"t\")\n",
    "plt.ylabel (r\"$v_{approx}$(t)\")\n",
    "plt.title (r\"$t$ vs $v_{approx}$(t)\")\n",
    "plt.plot (t, vap)\n",
    "plt.grid(True)\n",
    "plt.show()"
   ]
  },
  {
   "cell_type": "code",
   "execution_count": null,
   "metadata": {
    "scrolled": true,
    "slideshow": {
     "slide_type": "subslide"
    }
   },
   "outputs": [],
   "source": [
    "plt.xlabel (r\"$t$\")\n",
    "plt.ylabel (r\"$v$\")\n",
    "plt.title (r\"$v_{Exact}$ vs $v_{approx}$\")\n",
    "plt.plot(t, f(t,cte1,cte2),'b', label='$v_{Exact}$')\n",
    "plt.plot(t, vap,'r', label='$v_{approx}$')\n",
    "plt.legend(loc='center right')\n",
    "plt.grid(True)\n",
    "plt.show()"
   ]
  },
  {
   "cell_type": "markdown",
   "metadata": {},
   "source": [
    "[Volver a la Tabla de Contenido](#TOC)"
   ]
  },
  {
   "cell_type": "markdown",
   "metadata": {},
   "source": [
    "### General Strategy:"
   ]
  },
  {
   "cell_type": "markdown",
   "metadata": {
    "slideshow": {
     "slide_type": "slide"
    }
   },
   "source": [
    "***Replace a difficult problem with an easier one that has the same solution***\n",
    "\n",
    "\n",
    "- Infinite processes by finite processes:\n",
    "\n",
    "  - Integrals by series;\n",
    "\n",
    "  - Derivative by finite differences;\n",
    "\n",
    "- Complex functions by simple functions: e.g. Polynomials\n",
    "\n",
    "- Nonlinear Problems by Linear one\n",
    "\n",
    "- Differential by Algebraic Equations\n",
    "\n",
    "- High order by low order systems"
   ]
  },
  {
   "cell_type": "markdown",
   "metadata": {},
   "source": [
    "[Volver a la Tabla de Contenido](#TOC)"
   ]
  },
  {
   "cell_type": "markdown",
   "metadata": {},
   "source": [
    "### Experiment vs Simulations"
   ]
  },
  {
   "cell_type": "markdown",
   "metadata": {
    "slideshow": {
     "slide_type": "slide"
    }
   },
   "source": [
    "$CFD$ gives an insight into flow patterns that are difficult, expensive or impossible to study using traditional (experimental) techniques: \n",
    "\n",
    "\n",
    "| Experiments                        | Simulations                                  |\n",
    "|:-----------------------------------|:---------------------------------------------|\n",
    "| Quantitative description of flow phenomena using measurements:| Quantitative prediction of flow phenomena using CFD software:|\n",
    "| - For one quantity at a time                                  | - For all desired quantities                                 |\n",
    "| - At a limited number of points and time instants             | - With high resolution in space and time                     |\n",
    "| - For a laboratory-scale model                                | - For the actual flow domain                                 |\n",
    "| - For a limited range of problems and operating conditions  | - For virtually any problem and realistic operating conditions.|\n",
    "|                                                               |                                                              |\n",
    "| <strong>Error sources:</strong> measurement errors, flow disturbances by the probes | <strong>Error sources:</strong> modeling, discretization, iteration, implementation\n"
   ]
  },
  {
   "cell_type": "markdown",
   "metadata": {
    "slideshow": {
     "slide_type": "slide"
    }
   },
   "source": [
    "As a rule, $CFD$ does not replace the measurements completely but the amount of experimentation and the overall cost can be significantly reduced.\n",
    "\n",
    "| Experiments                        | Simulations                                  |\n",
    "|:-----------------------------------|:---------------------------------------------|\n",
    "| - Expensive                        | - Cheap(er)                                  |\n",
    "| - Slow                             | - Fast(er)                                   |\n",
    "| - Sequential                       | - Parallel                                   |\n",
    "| - Single - Purpose                 | - Multiple-Porpose                           |\n",
    "\n",
    "\n",
    "- Equipment and personnel are difficult to transport\n",
    "\n",
    "\n",
    "- $CFD$ software is portable, easy to use and modify"
   ]
  },
  {
   "cell_type": "markdown",
   "metadata": {
    "collapsed": true,
    "slideshow": {
     "slide_type": "subslide"
    }
   },
   "source": [
    "The results of a $CFD$ simulation are never 100% reliable because:\n",
    "\n",
    "• Input data may involve too much guessing or imprecision;\n",
    "\n",
    "\n",
    "• Mathematical model of the problem at hand may be inadequate;\n",
    "\n",
    "\n",
    "• Accuracy of the results is limited by the available computing power."
   ]
  },
  {
   "cell_type": "markdown",
   "metadata": {},
   "source": [
    "[Volver a la Tabla de Contenido](#TOC)"
   ]
  },
  {
   "cell_type": "markdown",
   "metadata": {},
   "source": [
    "### Fluids Characteristics"
   ]
  },
  {
   "cell_type": "markdown",
   "metadata": {},
   "source": [
    "#### Macroscopic Properties"
   ]
  },
  {
   "cell_type": "markdown",
   "metadata": {
    "slideshow": {
     "slide_type": "slide"
    }
   },
   "source": [
    "- $\\rho$: Density\n",
    "\n",
    "- $\\mu$: Viscosity\n",
    "\n",
    "- $p$: Pressure\n",
    "\n",
    "- $T$: Temperature\n",
    "\n",
    "- $v$: Velocity"
   ]
  },
  {
   "cell_type": "markdown",
   "metadata": {},
   "source": [
    "[Volver a la Tabla de Contenido](#TOC)"
   ]
  },
  {
   "cell_type": "markdown",
   "metadata": {},
   "source": [
    "#### Classsification of fluid flows"
   ]
  },
  {
   "cell_type": "markdown",
   "metadata": {
    "slideshow": {
     "slide_type": "subslide"
    }
   },
   "source": [
    "| Clasificacion            |         fluidos     |\n",
    "|:-------------------------|:--------------------|\n",
    "| - Viscous                | - Inviscid          |\n",
    "| - Compressible           | - Incompressible    |\n",
    "| - Steady                 | - Unsteady          |\n",
    "| - Laminar                | - Turbulent         |\n",
    "| - Single - Phase         | - Multiphase        |\n",
    "\n",
    "\n",
    "The reliability of $CFD$ simulations is greater:\n",
    "\n",
    "• for laminar/slow flows than for turbulent/fast ones;\n",
    "\n",
    "• for single-phase flows than for multi-phase flows;\n",
    "\n",
    "• for chemically inert systems than for reactive flows"
   ]
  },
  {
   "cell_type": "markdown",
   "metadata": {},
   "source": [
    "[Volver a la Tabla de Contenido](#TOC)"
   ]
  },
  {
   "cell_type": "markdown",
   "metadata": {},
   "source": [
    "## How does CFD make predictions?"
   ]
  },
  {
   "cell_type": "markdown",
   "metadata": {
    "slideshow": {
     "slide_type": "slide"
    }
   },
   "source": [
    "- $CFD$ uses a computer to solve the mathematical equations for the problem at hand. \n",
    "\n",
    "\n",
    "- The main components of a $CFD$ design cycle are as follows:\n",
    "\n",
    "  - The $\\text{human being}$ (analyst) who states the problem to be solved;\n",
    "\n",
    "  - $\\text{Scientific knowledge}$ (models, methods) expressed mathematically;\n",
    "\n",
    "  - The $\\text{computer code}$ (software) which embodies this knowledge and provides detailed instructions (algorithms)\n",
    "\n",
    "  - The $\\text{computer hardware}$ which performs the actual calculations\n",
    "\n",
    "  - The $\\text{human being}$ who inspects and interprets the simulation results\n",
    "\n",
    "\n",
    "- $CFD$ is a highly interdisciplinary research area which lies at the interface of physics, applied mathematics, and computer science\n"
   ]
  },
  {
   "cell_type": "markdown",
   "metadata": {},
   "source": [
    "[Volver a la Tabla de Contenido](#TOC)"
   ]
  },
  {
   "cell_type": "markdown",
   "metadata": {},
   "source": [
    "### CFD analysis process"
   ]
  },
  {
   "cell_type": "markdown",
   "metadata": {
    "slideshow": {
     "slide_type": "slide"
    }
   },
   "source": [
    "<strong>- Problem statement:</strong> information about the flow;\n",
    "\n",
    "\n",
    "<strong>- Mathematical model:</strong> $IBVP = PDE + IC + BC$;\n",
    "\n",
    "\n",
    "<strong>- Mesh generation:</strong> nodes/cells, time instants;\n",
    "\n",
    "\n",
    "<strong>- Space discretization:</strong> coupled $ODE/DAE$ systems;\n",
    "\n",
    "\n",
    "<strong>- Time discretization:</strong> algebraic system $[A]{x} = {b}$;\n",
    "\n",
    "\n",
    "<strong>- Iterative solver:</strong> discrete function values;\n",
    "\n",
    "\n",
    "<strong>- $CFD$ software:</strong> implementation, debugging;\n",
    "\n",
    "\n",
    "<strong>- Simulation run:</strong> parameters, stopping criteria;\n",
    "\n",
    "\n",
    "<strong>- Postprocessing:</strong> visualization, analysis of data;\n",
    "\n",
    "\n",
    "<strong>- Verification:</strong> model validation / adjustment.\n"
   ]
  },
  {
   "cell_type": "markdown",
   "metadata": {},
   "source": [
    "[Volver a la Tabla de Contenido](#TOC)"
   ]
  },
  {
   "cell_type": "markdown",
   "metadata": {},
   "source": [
    "### Problem statement"
   ]
  },
  {
   "cell_type": "markdown",
   "metadata": {
    "slideshow": {
     "slide_type": "slide"
    }
   },
   "source": [
    "- What is $known$ $about$ $the$ $flow$ $problem$ to be dealt with?\n",
    "\n",
    "\n",
    "- What $physical$ $phenomena$ $need$ to be taken into account?\n",
    "\n",
    "\n",
    "- What is the $geometry$ $of$ $the$ $domain$ and $operating$ $conditions$?\n",
    "\n",
    "\n",
    "- Are there $any$ $internal$ $obstacles$ or free surfaces/interfaces?\n",
    "\n",
    "\n",
    "- What is the $type$ $of$ $flow$ (laminar/turbulent, steady/unsteady)?\n",
    "\n",
    "\n",
    "- What is the $objective$ $of$ $the$ $CFD$ $analysis$ to be performed?\n",
    "\n",
    "  - computation of integral quantities (lift, drag, yield)\n",
    "\n",
    "  - snapshots of field data for velocities, concentrations etc.\n",
    "\n",
    "  - shape optimization aimed at an improved performance\n",
    "\n",
    "\n",
    "- What is the easiest/cheapest/fastest way to achieve the goal?\n"
   ]
  },
  {
   "cell_type": "markdown",
   "metadata": {},
   "source": [
    "[Volver a la Tabla de Contenido](#TOC)"
   ]
  },
  {
   "cell_type": "markdown",
   "metadata": {},
   "source": [
    "### Mathematical model"
   ]
  },
  {
   "cell_type": "markdown",
   "metadata": {
    "slideshow": {
     "slide_type": "slide"
    }
   },
   "source": [
    "- Choose a suitable flow model (viewpoint) and reference frame;\n",
    "\n",
    "\n",
    "- Identify the forces which cause and influence the fluid motion;\n",
    "\n",
    "\n",
    "- Define the computational domain in which to solve the problem,\n",
    "\n",
    "\n",
    "- Formulate conservation laws for the Mass, Momentum, and Energy;\n",
    "\n",
    "\n",
    "- Simplify the governing equations to reduce the computational effort:\n",
    " \n",
    "  - use available information about the prevailing flow regime\n",
    "  \n",
    "  - check for symmetries and predominant flow directions (1D/2D)\n",
    "  \n",
    "  - neglect the terms which have little or no influence on the results\n",
    "  \n",
    "  - model the effect of small-scale fluctuations that cannot be captured\n",
    "  \n",
    "  - incorporate a priori knowledge (measurement data, CFD results)\n",
    "\n",
    "\n",
    "- Add constitutive relations and specify initial/boundary conditions.\n",
    "\n"
   ]
  },
  {
   "cell_type": "markdown",
   "metadata": {},
   "source": [
    "[Volver a la Tabla de Contenido](#TOC)"
   ]
  },
  {
   "cell_type": "markdown",
   "metadata": {},
   "source": [
    "### Discretization process"
   ]
  },
  {
   "cell_type": "markdown",
   "metadata": {
    "slideshow": {
     "slide_type": "slide"
    }
   },
   "source": [
    "The $PDE$ system is transformed into a set of *Differential Algebraic Equations (DAE):\n",
    "\n",
    "- ***Mesh generation*** (decomposition into cells/elements)\n",
    "\n",
    "  - structured or unstructured, triangular or quadrilateral?\n",
    "\n",
    "  - CAD tools + grid generators (Delaunay, advancing front)\n",
    "\n",
    "  - mesh size, adaptive refinement in ‘interesting’ flow regions\n",
    "\n",
    "\n",
    "- ***Space discretization*** (approximation of spatial derivatives)\n",
    "\n",
    "  - finite differences/volumes/elements\n",
    "\n",
    "  - high- vs. low-order approximations\n",
    "\n",
    "\n",
    "- ***Time discretization*** (approximation of temporal derivatives)\n",
    "\n",
    "  - explicit vs. implicit schemes, stability constraints\n",
    "\n",
    "  - local time-stepping, adaptive time step control\n"
   ]
  },
  {
   "cell_type": "markdown",
   "metadata": {},
   "source": [
    "[Volver a la Tabla de Contenido](#TOC)"
   ]
  },
  {
   "cell_type": "markdown",
   "metadata": {},
   "source": [
    "### Iterative solution strategy"
   ]
  },
  {
   "cell_type": "markdown",
   "metadata": {
    "slideshow": {
     "slide_type": "slide"
    }
   },
   "source": [
    "The coupled nonlinear algebraic equations must be solved iteratively\n",
    "\n",
    "- ***Outer iterations:*** the coefficients of the discrete problem are updated using the solution values from the previous iteration so as to\n",
    "\n",
    "  - get rid of the nonlinearities by a Newton-like method\n",
    "  \n",
    "  - solve the governing equations in a segregated fashion\n",
    "\n",
    "\n",
    "- ***Inner iterations:*** the resulting sequence of linear subproblems is typically solved by an iterative method (conjugate gradients, multigrid) because direct solvers (Gaussian elimination) are prohibitively expensive\n",
    "\n",
    "\n",
    "- ***Convergence criteria:*** it is necessary to check the residuals, relative solution changes and other indicators to make sure that the iterations converge.\n",
    "\n",
    "\n",
    "As a rule, the algebraic systems to be solved are very large (millions of unknowns) but sparse, i.e., most of the matrix coefficients are equal to zero.\n"
   ]
  },
  {
   "cell_type": "markdown",
   "metadata": {},
   "source": [
    "[Volver a la Tabla de Contenido](#TOC)"
   ]
  },
  {
   "cell_type": "markdown",
   "metadata": {},
   "source": [
    "## *CFD* simulations"
   ]
  },
  {
   "cell_type": "markdown",
   "metadata": {
    "collapsed": true,
    "slideshow": {
     "slide_type": "slide"
    }
   },
   "source": [
    "The *computing times* for a flow simulation depend on:\n",
    "\n",
    "- the choice of numerical algorithms and data structures;\n",
    "\n",
    "- linear algebra tools, stopping criteria for iterative solvers;\n",
    "\n",
    "- discretization parameters (mesh quality, mesh size, time step);\n",
    "\n",
    "- cost per time step and convergence rates for outer iterations;\n",
    "\n",
    "- programming language (most $CFD$ codes are written in `Fortran`);\n",
    "\n",
    "- many other things (hardware, vectorization, parallelization etc.);\n",
    "\n",
    "\n",
    "The quality of simulation results depends on:\n",
    "\n",
    "- the mathematical model and underlying assumptions;\n",
    "\n",
    "- approximation type, stability of the numerical scheme;\n",
    "\n",
    "- mesh, time step, error indicators, stopping criteria . . ."
   ]
  },
  {
   "cell_type": "markdown",
   "metadata": {},
   "source": [
    "[Volver a la Tabla de Contenido](#TOC)"
   ]
  },
  {
   "cell_type": "markdown",
   "metadata": {},
   "source": [
    "### Postprocessing and analysis"
   ]
  },
  {
   "cell_type": "markdown",
   "metadata": {
    "slideshow": {
     "slide_type": "slide"
    }
   },
   "source": [
    "Postprocessing of the simulation results is performed in order to extract the desired information from the computed flow field:\n",
    "\n",
    "- calculation of derived quantities (streamfunction, vorticity);\n",
    "\n",
    "\n",
    "- calculation of integral parameters (lift, drag, total mass);\n",
    "\n",
    "\n",
    "- visualization (representation of numbers as images):\n",
    "\n",
    "  - $1D$ data: function values connected by straight lines;\n",
    "  - $2D$ data: streamlines, contour levels, color diagrams;\n",
    "  - $3D$ data: cutlines, cutplanes, isosurfaces, isovolumes;\n",
    "  - arrow plots, particle tracing, animations $\\ldots$\n",
    "\n",
    "\n",
    "- Systematic data analysis by means of statistical tools;\n",
    "\n",
    "\n",
    "- Debugging, verification, and validation of the $CFD$ model.\n"
   ]
  },
  {
   "cell_type": "markdown",
   "metadata": {},
   "source": [
    "[Volver a la Tabla de Contenido](#TOC)"
   ]
  },
  {
   "cell_type": "markdown",
   "metadata": {},
   "source": [
    "### Uncertainty and error"
   ]
  },
  {
   "cell_type": "markdown",
   "metadata": {
    "slideshow": {
     "slide_type": "slide"
    }
   },
   "source": [
    "Whether or not the results of a $CFD$ simulation can be trusted depends on the degree of uncertainty and on the cumulative effect of various errors.\n",
    "\n",
    "\n",
    "- Uncertainty is defined as a potential deficiency due to the lack of knowledge (turbulence modeling is a classical example)\n",
    "\n",
    "\n",
    "- Error is defined as a recognizable deficiency due to other reasons\n",
    "\n",
    "\n",
    "  - Acknowledged errors have certain mechanisms for identifying, estimating and possibly eliminating or at least alleviating them;\n",
    "  \n",
    "  \n",
    "  - Unacknowledged errors have no standard procedures for detecting them and may remain undiscovered causing a lot of harm;\n",
    "\n",
    "\n",
    "  - Local errors refer to solution errors at a single grid point or cell;\n",
    "\n",
    "\n",
    "  - Global errors refer to solution errors over the entire flow domain.\n",
    "\n",
    "\n",
    "Local errors contribute to the global error and may move throughout the grid."
   ]
  },
  {
   "cell_type": "markdown",
   "metadata": {},
   "source": [
    "[Volver a la Tabla de Contenido](#TOC)"
   ]
  },
  {
   "cell_type": "markdown",
   "metadata": {},
   "source": [
    "### Classification of errors"
   ]
  },
  {
   "cell_type": "markdown",
   "metadata": {
    "slideshow": {
     "slide_type": "slide"
    }
   },
   "source": [
    "***Acknowledged errors***\n",
    "\n",
    "- Physical modeling error due to uncertainty and deliberate simplifications;\n",
    "\n",
    "\n",
    "- Discretization error   approximation of $PDEs$ by algebraic equations\n",
    "\n",
    "  - spatial discretization error due to a finite grid resolution;\n",
    "\n",
    "  - temporal discretization error due to a finite time step size;\n",
    "\n",
    "\n",
    "- Iterative convergence error which depends on the stopping criteria;\n",
    "\n",
    "\n",
    "- Round-off errors due to the finite precision of computer arithmetic\n",
    "\n",
    "\n",
    "***Unacknowledged errors***\n",
    "\n",
    "\n",
    "- Computer programming error: “bugs” in coding and logical mistakes;\n",
    "\n",
    "\n",
    "- Usage error: wrong parameter values, models or boundary conditions\n",
    "\n",
    "*Awareness of these error sources and an ability to control or preclude the error are important prerequisites for developing and using $CFD$ software*"
   ]
  },
  {
   "cell_type": "markdown",
   "metadata": {},
   "source": [
    "[Volver a la Tabla de Contenido](#TOC)"
   ]
  },
  {
   "cell_type": "markdown",
   "metadata": {},
   "source": [
    "### Verification of *CFD* codes"
   ]
  },
  {
   "cell_type": "markdown",
   "metadata": {
    "slideshow": {
     "slide_type": "slide"
    }
   },
   "source": [
    "Verification amounts to looking for errors in the implementation of the models (loosely speaking, the question is: “***are we solving the equations right***”?)\n",
    "\n",
    "- <strong>Examine the computer programming</strong> by visually checking the source code, documenting it and testing the underlying subprograms individually;\n",
    "\n",
    "\n",
    "- <strong>Examine iterative convergence</strong> by monitoring the residuals, relative changes of integral quantities and checking if the prescribed tolerance is attained;\n",
    "\n",
    "\n",
    "- <strong>Examine consistency</strong> (check if relevant conservation principles are satisfied);\n",
    "\n",
    "\n",
    "- <strong>Examine grid convergence:</strong> as the mesh and/or and the time step are refined, the spatial and temporal discretization errors, respectively, should asymptotically approach zero (in the absence of round-off errors);\n",
    "\n",
    "\n",
    "- <strong>Compare the computational results with analytical and numerical solutions</strong> for standard benchmark configurations (representative test cases).\n"
   ]
  },
  {
   "cell_type": "markdown",
   "metadata": {},
   "source": [
    "[Volver a la Tabla de Contenido](#TOC)"
   ]
  },
  {
   "cell_type": "markdown",
   "metadata": {},
   "source": [
    "### Validation of *CFD* models"
   ]
  },
  {
   "cell_type": "markdown",
   "metadata": {
    "slideshow": {
     "slide_type": "slide"
    }
   },
   "source": [
    "Validation amounts to checking if the model itself is adequate for practical purposes (loosely speaking, the question is: “***are we solving the right equations***”?)\n",
    "\n",
    "\n",
    "- <strong>Verify the code</strong> to make sure that the numerical solutions are correct;\n",
    "\n",
    "\n",
    "- <strong>Compare the results</strong> with available experimental data (making a provision for measurement errors) to check if the reality is represented accurately enough;\n",
    "\n",
    "\n",
    "- <strong>Perform sensitivity analysis</strong> and a parametric study to assess the inherent uncertainty due to the insufficient understanding of physical processes;\n",
    "\n",
    "\n",
    "- <strong>Try using different models</strong>, geometry, and initial/boundary conditions;\n",
    "\n",
    "\n",
    "- <strong>Report the findings</strong>, document model limitations and parameter settings.\n",
    "\n",
    "\n",
    "*The goal of verification and validation is to ensure that the $CFD$ code produces reasonable results for a certain range of flow problems*.\n"
   ]
  },
  {
   "cell_type": "markdown",
   "metadata": {},
   "source": [
    "[Volver a la Tabla de Contenido](#TOC)"
   ]
  },
  {
   "cell_type": "markdown",
   "metadata": {},
   "source": [
    "### Available CFD software"
   ]
  },
  {
   "cell_type": "markdown",
   "metadata": {
    "slideshow": {
     "slide_type": "slide"
    }
   },
   "source": [
    "- [ANSYS: CFX/Fluent:](https://www.ansys.com)\n",
    "\n",
    "- [Flow3D](https://www.flow3d.com/)\n",
    "\n",
    "- [OpenFoam: ](https://www.openfoam.com)\n",
    "\n",
    "- [Star-CCM: ](https://www.cd-adapco.com)\n",
    "\n",
    "- [Comsol: ](https://www.comsol.com)\n",
    "\n",
    "- [FEATFLOW: ](https://www.featflow.de)\n",
    "\n",
    "$\\vdots$\n",
    "\n",
    "- [CFD-OnLine](https://www.cfd-online.com)"
   ]
  },
  {
   "cell_type": "markdown",
   "metadata": {},
   "source": [
    "[Volver a la Tabla de Contenido](#TOC)"
   ]
  }
 ],
 "metadata": {
  "kernelspec": {
   "display_name": "Python 3",
   "language": "python",
   "name": "python3"
  },
  "language_info": {
   "codemirror_mode": {
    "name": "ipython",
    "version": 3
   },
   "file_extension": ".py",
   "mimetype": "text/x-python",
   "name": "python",
   "nbconvert_exporter": "python",
   "pygments_lexer": "ipython3",
   "version": "3.6.10"
  },
  "toc": {
   "base_numbering": 1,
   "nav_menu": {},
   "number_sections": true,
   "sideBar": true,
   "skip_h1_title": true,
   "title_cell": "Table of Contents",
   "title_sidebar": "Contents",
   "toc_cell": true,
   "toc_position": {},
   "toc_section_display": true,
   "toc_window_display": true
  }
 },
 "nbformat": 4,
 "nbformat_minor": 2
}
