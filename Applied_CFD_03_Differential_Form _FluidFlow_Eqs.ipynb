{
 "cells": [
  {
   "cell_type": "markdown",
   "metadata": {
    "slideshow": {
     "slide_type": "slide"
    }
   },
   "source": [
    "![Imagen](http://www.eafit.edu.co/SiteCollectionImages/logo.png?raw=true \"\")\n",
    "\n",
    "\n",
    "<h1 align=\"center\">Dinámica de Fluidos Computacional Aplicada - IM0642</h1>\n",
    "\n",
    "<h1 align=\"center\">Sesión 03: Formulación diferencial para las ecuaciones de fluidos</h1>\n",
    "\n",
    "<h1 align=\"center\">ESCUELA DE INGENIERÍA</h1>\n",
    "\n",
    "<h1 align=\"center\">Especialización en Turbomáquinas</h1>\n",
    "\n",
    "<h1 align=\"center\">MEDELLÍN - COLOMBIA </h1>\n",
    "\n",
    "<h1 align=\"center\">2021/01 </h1>\n"
   ]
  },
  {
   "cell_type": "markdown",
   "metadata": {},
   "source": [
    "<table>\n",
    " <tr align=left><td><img align=left src=\"https://github.com/carlosalvarezh/CFD_Applied/blob/master/figs/CC-BY.png?raw=true\">\n",
    " <td>Text provided under a Creative Commons Attribution license, CC-BY. All code is made available under the FSF-approved MIT license.(c) Carlos Alberto Alvarez Henao</td>\n",
    "</table>\n"
   ]
  },
  {
   "cell_type": "markdown",
   "metadata": {},
   "source": [
    "*** \n",
    "\n",
    "***Docente:*** Carlos Alberto Álvarez Henao, I.C. D.Sc.\n",
    "\n",
    "***e-mail:*** calvar52@eafit.edu.co\n",
    "\n",
    "***skype:*** carlos.alberto.alvarez.henao\n",
    "\n",
    "***Herramienta:*** [Jupyter](http://jupyter.org/)\n",
    "\n",
    "***Kernel:*** Python 3.8\n",
    "\n",
    "\n",
    "***"
   ]
  },
  {
   "cell_type": "markdown",
   "metadata": {},
   "source": [
    "<a id='TOC'></a>"
   ]
  },
  {
   "cell_type": "markdown",
   "metadata": {
    "toc": true
   },
   "source": [
    "<h1>Tabla de contenido<span class=\"tocSkip\"></span></h1>\n",
    "<div class=\"toc\"><ul class=\"toc-item\"><li><span><a href=\"#Ecuaciones-para-CFD\" data-toc-modified-id=\"Ecuaciones-para-CFD-1\"><span class=\"toc-item-num\">1&nbsp;&nbsp;</span>Ecuaciones para CFD</a></span><ul class=\"toc-item\"><li><span><a href=\"#Conservación-de-la-masa--(2D):\" data-toc-modified-id=\"Conservación-de-la-masa--(2D):-1.1\"><span class=\"toc-item-num\">1.1&nbsp;&nbsp;</span>Conservación de la masa  (<em>2D</em>):</a></span></li><li><span><a href=\"#Conservación-del-Momentum-(2D)\" data-toc-modified-id=\"Conservación-del-Momentum-(2D)-1.2\"><span class=\"toc-item-num\">1.2&nbsp;&nbsp;</span>Conservación del Momentum (<em>2D</em>)</a></span><ul class=\"toc-item\"><li><span><a href=\"#Forma-conservativa\" data-toc-modified-id=\"Forma-conservativa-1.2.1\"><span class=\"toc-item-num\">1.2.1&nbsp;&nbsp;</span>Forma conservativa</a></span></li><li><span><a href=\"#Ecuaciones-de-Conservación-del-Momentum-Forma-conservativa-(2D)\" data-toc-modified-id=\"Ecuaciones-de-Conservación-del-Momentum-Forma-conservativa-(2D)-1.2.2\"><span class=\"toc-item-num\">1.2.2&nbsp;&nbsp;</span>Ecuaciones de Conservación del Momentum Forma conservativa (<em>2D</em>)</a></span></li></ul></li><li><span><a href=\"#Conservación-de-la-Energía-(2D)\" data-toc-modified-id=\"Conservación-de-la-Energía-(2D)-1.3\"><span class=\"toc-item-num\">1.3&nbsp;&nbsp;</span>Conservación de la Energía (<em>2D</em>)</a></span></li></ul></li><li><span><a href=\"#Ecuaciones-de-la-Dinámica-de-Fluidos\" data-toc-modified-id=\"Ecuaciones-de-la-Dinámica-de-Fluidos-2\"><span class=\"toc-item-num\">2&nbsp;&nbsp;</span>Ecuaciones de la Dinámica de Fluidos</a></span><ul class=\"toc-item\"><li><span><a href=\"#Ecuaciones-del-Movimiento\" data-toc-modified-id=\"Ecuaciones-del-Movimiento-2.1\"><span class=\"toc-item-num\">2.1&nbsp;&nbsp;</span>Ecuaciones del Movimiento</a></span></li><li><span><a href=\"#Ecuación-termodinámica\" data-toc-modified-id=\"Ecuación-termodinámica-2.2\"><span class=\"toc-item-num\">2.2&nbsp;&nbsp;</span>Ecuación termodinámica</a></span></li><li><span><a href=\"#Ecuación-de-continuidad-(de-la-masa)\" data-toc-modified-id=\"Ecuación-de-continuidad-(de-la-masa)-2.3\"><span class=\"toc-item-num\">2.3&nbsp;&nbsp;</span>Ecuación de continuidad (de la masa)</a></span></li></ul></li></ul></div>"
   ]
  },
  {
   "cell_type": "markdown",
   "metadata": {
    "slideshow": {
     "slide_type": "slide"
    }
   },
   "source": [
    "## Ecuaciones para CFD"
   ]
  },
  {
   "cell_type": "markdown",
   "metadata": {
    "slideshow": {
     "slide_type": "subslide"
    }
   },
   "source": [
    "<p float=\"center\">\n",
    "  <img src=\"https://github.com/carlosalvarezh/CFD_Applied/blob/master/figs/Ecs_CFD.PNG?raw=true\" width=\"500\" />\n",
    "</p>\n"
   ]
  },
  {
   "cell_type": "markdown",
   "metadata": {},
   "source": [
    "[Volver a la Tabla de Contenido](#TOC)"
   ]
  },
  {
   "cell_type": "markdown",
   "metadata": {},
   "source": [
    "### Conservación de la masa  (*2D*):"
   ]
  },
  {
   "cell_type": "markdown",
   "metadata": {
    "slideshow": {
     "slide_type": "slide"
    }
   },
   "source": [
    "<p float=\"center\">\n",
    "  <img src=\"https://github.com/carlosalvarezh/CFD_Applied/blob/master/figs/MassConservation00.PNG?raw=true\" width=\"500\" />\n",
    "</p>\n"
   ]
  },
  {
   "cell_type": "markdown",
   "metadata": {},
   "source": [
    "La anterior figura implica que *la variación temporal de la cantidad de masa en el elemento es igual a la descarga resultante a través de las fronteras del elemento*. Matemáticamente se expresa:\n",
    "\n",
    "\\begin{equation}\n",
    "\\frac{\\delta \\rho}{\\delta t}\\delta x \\delta y = - \\left[ \\frac{\\delta (\\rho u)}{\\delta x} \\delta x \\right] \\delta y - \\left[ \\frac{\\delta (\\rho v)}{\\delta y} \\delta y \\right] \\delta x\n",
    "\\end{equation}"
   ]
  },
  {
   "cell_type": "markdown",
   "metadata": {
    "slideshow": {
     "slide_type": "subslide"
    }
   },
   "source": [
    "<p float=\"center\">\n",
    "  <img src=\"https://github.com/carlosalvarezh/CFD_Applied/blob/master/figs/MassConservation01.PNG?raw=true\" width=\"500\" />\n",
    "</p>\n"
   ]
  },
  {
   "cell_type": "markdown",
   "metadata": {},
   "source": [
    "Como se trata de elementos de tamaño diferencial, la multiplicación del valor de dos elementos de tamaño muy pequeño darán un valor mucho menor, entonces, el valor $\\delta x \\delta y \\rightarrow 0$, y reemplazando en la ecuación anterior:\n",
    "\n",
    "$$\\frac{\\partial \\rho}{\\partial t} + \\left [ \\frac{\\partial (\\rho u)}{\\partial x} + \\frac{\\partial (\\rho v)}{\\partial x} \\right ] =0$$\n",
    "\n",
    "El primer término es la variación temporal de la densidad, y el segundo término, entre corchetes, es la tasa de variación de masa por unidad de volumen."
   ]
  },
  {
   "cell_type": "markdown",
   "metadata": {
    "slideshow": {
     "slide_type": "subslide"
    }
   },
   "source": [
    "<p float=\"center\">\n",
    "  <img src=\"https://github.com/carlosalvarezh/CFD_Applied/blob/master/figs/MassConservation02.PNG?raw=true\" width=\"350\" />\n",
    "</p>\n"
   ]
  },
  {
   "cell_type": "markdown",
   "metadata": {},
   "source": [
    "[Volver a la Tabla de Contenido](#TOC)"
   ]
  },
  {
   "cell_type": "markdown",
   "metadata": {},
   "source": [
    "### Conservación del Momentum (*2D*)"
   ]
  },
  {
   "cell_type": "markdown",
   "metadata": {
    "slideshow": {
     "slide_type": "slide"
    }
   },
   "source": [
    "de la ***2a Ley de Newton***\n",
    "\n",
    "<p float=\"center\">\n",
    "  <img src=\"https://github.com/carlosalvarezh/CFD_Applied/blob/master/figs/Momentum01.PNG?raw=true\" width=\"500\" />\n",
    "</p>\n"
   ]
  },
  {
   "cell_type": "markdown",
   "metadata": {},
   "source": [
    "Variación de la velocidad entre dos puntos\n",
    "\n",
    "$$\\delta u = \\frac{\\partial u}{\\partial x}\\delta x+\\frac{\\partial u}{\\partial y}\\delta y+\\frac{\\partial u}{\\partial t}\\delta t$$\n",
    "\n",
    "dividiendo por $\\delta t$\n",
    "\n",
    "\\begin{equation}\n",
    "\\begin{split}\n",
    "\\frac{\\delta u}{\\delta t} &= \\frac{\\partial u}{\\partial x}\\frac{\\delta x}{\\delta t}+\\frac{\\partial u}{\\partial y}\\frac{\\delta y}{\\delta t}+\\frac{\\partial u}{\\partial t} \\\\\n",
    " &=\\frac{\\partial u}{\\partial t}+u\\frac{\\partial u}{\\partial x}+v\\frac{\\partial u}{\\partial y}\n",
    "\\end{split}\n",
    "\\end{equation}\n",
    "\n",
    "el primer término de la ecuación anterior es la acelaración del elemento de fluido."
   ]
  },
  {
   "cell_type": "markdown",
   "metadata": {},
   "source": [
    "<p float=\"center\">\n",
    "  <img src=\"https://github.com/carlosalvarezh/CFD_Applied/blob/master/figs/Momentum03.PNG?raw=true\" width=\"500\" />\n",
    "</p>\n"
   ]
  },
  {
   "cell_type": "markdown",
   "metadata": {},
   "source": [
    "<p float=\"center\">\n",
    "  <img src=\"https://github.com/carlosalvarezh/CFD_Applied/blob/master/figs/Momentum04.PNG?raw=true\" width=\"500\" />\n",
    "</p>\n"
   ]
  },
  {
   "cell_type": "markdown",
   "metadata": {},
   "source": [
    "[Volver a la Tabla de Contenido](#TOC)"
   ]
  },
  {
   "cell_type": "markdown",
   "metadata": {},
   "source": [
    "#### Forma conservativa"
   ]
  },
  {
   "attachments": {},
   "cell_type": "markdown",
   "metadata": {},
   "source": [
    "Los coeficientes de las derivadas son constantes, o si son variables, sus derivadas no aparecen en la *EDP*!\n",
    "\n",
    "\\begin{equation}\n",
    "\\begin{split}\n",
    "\\rho \\frac{Du}{Dt}+u \\underbrace{\\left [ \\frac{\\partial \\rho}{\\partial t}+\\frac{\\partial (\\rho u)}{\\partial x}+\\frac{\\partial (\\rho v)}{\\partial y} \\right ]}_{\\text{Ecuación de continuidad=0}} \\\\ \n",
    "& =\\frac{\\partial (\\rho u)}{\\partial t}+\\frac{\\partial (\\rho u^2)}{\\partial x}+\\frac{\\partial (\\rho uv)}{\\partial y} \\\\\n",
    "& =\\frac{\\partial (\\rho u)}{\\partial t}+\\nabla \\cdot (\\rho u \\boldsymbol{V})\n",
    "\\end{split}\n",
    "\\end{equation}\n"
   ]
  },
  {
   "cell_type": "markdown",
   "metadata": {},
   "source": [
    "[Volver a la Tabla de Contenido](#TOC)"
   ]
  },
  {
   "attachments": {},
   "cell_type": "markdown",
   "metadata": {},
   "source": [
    "#### Ecuaciones de Conservación del Momentum Forma conservativa (*2D*)"
   ]
  },
  {
   "cell_type": "markdown",
   "metadata": {},
   "source": [
    "$$\\frac{\\partial (\\rho u)}{\\partial t}+\\frac{\\partial (\\rho u^2)}{\\partial x}+\\frac{\\partial (\\rho uv)}{\\partial y}=-\\frac{\\partial p}{\\partial x}+\\frac{\\partial \\tau_{xx}}{\\partial x}+\\frac{\\partial \\tau_{yx}}{\\partial y}+\\rho F_{x}$$\n",
    "\n",
    "$$\\frac{\\partial (\\rho v)}{\\partial t}+\\frac{\\partial (\\rho v^2)}{\\partial y}+\\frac{\\partial (\\rho uv)}{\\partial x}=-\\frac{\\partial p}{\\partial y}+\\frac{\\partial \\tau_{yy}}{\\partial y}+\\frac{\\partial \\tau_{xy}}{\\partial y}+\\rho F_{y}$$"
   ]
  },
  {
   "cell_type": "markdown",
   "metadata": {},
   "source": [
    "[Volver a la Tabla de Contenido](#TOC)"
   ]
  },
  {
   "cell_type": "markdown",
   "metadata": {},
   "source": [
    "### Conservación de la Energía (*2D*)"
   ]
  },
  {
   "attachments": {},
   "cell_type": "markdown",
   "metadata": {},
   "source": [
    "<p float=\"center\">\n",
    "  <img src=\"https://github.com/carlosalvarezh/CFD_Applied/blob/master/figs/Energia01.PNG?raw=true\" width=\"500\" />\n",
    "</p>\n",
    "\n",
    "$$\\rho \\frac{DE}{Dt}=S+W$$\n",
    "\n",
    "Suma de tres componentes:\n",
    "\n",
    "- ***Energía Cinética*** de traslación del fluido debido a su movimiento;\n",
    "\n",
    "\n",
    "- ***Energía interna*** del fluido debido a la vibración natural de las moléculas que lo componen;\n",
    "\n",
    "\n",
    "- ***Energía Potencial Gravitacional***.\n",
    "\n",
    "con:\n",
    "\n",
    "$$E=e+\\frac{V^2}{2}$$\n",
    "\n",
    "donde $\\frac{V^2}{2}$ es la energía por unidad de masa y $V=\\sqrt{u^2+v^2}$\n",
    "\n",
    "\\begin{equation}\n",
    "\\begin{split}\n",
    "S & =\\rho \\frac{\\partial Q}{\\partial t} + \\frac{\\partial}{\\partial x} \\left ( \\kappa \\frac{\\partial T}{\\partial x} \\right ) +\\frac{\\partial}{\\partial y} \\left ( \\kappa \\frac{\\partial T}{\\partial y} \\right )\\\\\n",
    " &=\\rho \\frac{\\partial Q}{\\partial t} + \\nabla \\cdot \\dot{\\boldsymbol{q}}\n",
    "\\end{split}\n",
    "\\end{equation}\n",
    "\n",
    "contiene los efectos de las fuentes de calor sobre la energía total del fluido.\n",
    "\n",
    "- $\\dot{\\boldsymbol{q}}=\\kappa \\nabla T$: Flujo de calor a través de las paredes del volumen de control.\n",
    "\n",
    "\n",
    "- $\\kappa$: coeficiente de conductividad térmica del fluido\n",
    "\n",
    "\n",
    "- $\\rho \\frac{\\partial Q}{\\partial t}$: Tasa de calor por unidad de masa producido por agentes externos, como absorción de calor por el fluido, o internos como reacciones químicas.\n",
    "\n",
    "\n",
    "- $\\nabla \\cdot \\dot{\\boldsymbol{q}}$: Transferencia de calor por conducción a través de las paredes del elemento de fluido, debido a la presencia de gradientes de temperatura (radiación)."
   ]
  },
  {
   "attachments": {},
   "cell_type": "markdown",
   "metadata": {},
   "source": [
    "Trabajo realizado sobre el fluido por las fuerzas externas, incluyendo la contribución debido a la variación de la energía potencial:\n",
    "\n",
    "$$W=- \\underbrace{ \\left[ \\frac{\\partial (up)}{\\partial x} + \\frac{\\partial (vp)}{\\partial y} + \\frac{\\partial (u \\tau_{xx})}{\\partial x} + \\frac{\\partial (u \\tau_{yx})}{\\partial y} + \\frac{\\partial (v \\tau_{xy})}{\\partial x} + \\frac{\\partial (v \\tau_{yy})}{\\partial y}\\right]}_{\\text{Tensiones viscosas y presión}} + \\underbrace{\\rho \\boldsymbol{F} \\cdot \\boldsymbol{V}}_{\\text{Fuerzas de campo}}$$\n"
   ]
  },
  {
   "cell_type": "markdown",
   "metadata": {},
   "source": [
    "[Volver a la Tabla de Contenido](#TOC)"
   ]
  },
  {
   "cell_type": "markdown",
   "metadata": {},
   "source": [
    "## Ecuaciones de la Dinámica de Fluidos"
   ]
  },
  {
   "cell_type": "markdown",
   "metadata": {},
   "source": [
    "### Ecuaciones del Movimiento"
   ]
  },
  {
   "cell_type": "markdown",
   "metadata": {},
   "source": [
    "$$\\frac{\\partial u}{\\partial t} = \\underbrace{-u\\frac{\\partial u}{\\partial x}-v\\frac{\\partial u}{\\partial y}}_{convección}-\\underbrace{\\theta \\frac{\\partial \\pi'}{\\partial x}}_{presión} + \\underbrace{fv}_{coriolis}+\\underbrace{\\frac{\\partial}{\\partial x} \\left( K_m\\frac{\\partial u}{\\partial x}\\right)+\\frac{\\partial}{\\partial y} \\left( K_m\\frac{\\partial u}{\\partial y}\\right)}_{difusión}$$\n",
    "\n",
    "\n",
    "$$\\frac{\\partial v}{\\partial t} = -u\\frac{\\partial v}{\\partial x}-v\\frac{\\partial v}{\\partial y}-\\theta \\frac{\\partial \\pi'}{\\partial x} + fu+\\frac{\\partial}{\\partial x} \\left( K_m\\frac{\\partial v}{\\partial x}\\right)+\\frac{\\partial}{\\partial y} \\left( K_m\\frac{\\partial v}{\\partial y}\\right)$$"
   ]
  },
  {
   "cell_type": "markdown",
   "metadata": {},
   "source": [
    "[Volver a la Tabla de Contenido](#TOC)"
   ]
  },
  {
   "cell_type": "markdown",
   "metadata": {},
   "source": [
    "### Ecuación termodinámica"
   ]
  },
  {
   "cell_type": "markdown",
   "metadata": {},
   "source": [
    "$$\\frac{\\partial \\theta _{il}}{\\partial t}=-u\\frac{\\partial \\theta_{il}}{\\partial x}-v\\frac{\\partial \\theta_{il}}{\\partial y}+\\frac{\\partial}{\\partial x} \\left( K_h \\frac{\\partial \\theta_{il}}{\\partial t}\\right)_{rad}+\\frac{\\partial}{\\partial x}\\left( K_h \\frac{\\partial \\theta_{il}}{\\partial x}\\right)+\\frac{\\partial}{\\partial y}\\left( K_h \\frac{\\partial \\theta_{il}}{\\partial y}\\right)$$"
   ]
  },
  {
   "cell_type": "markdown",
   "metadata": {},
   "source": [
    "[Volver a la Tabla de Contenido](#TOC)"
   ]
  },
  {
   "cell_type": "markdown",
   "metadata": {},
   "source": [
    "### Ecuación de continuidad (de la masa)"
   ]
  },
  {
   "cell_type": "markdown",
   "metadata": {},
   "source": [
    "$$\\frac{\\partial \\pi'}{\\partial t}=-\\frac{R\\pi_0}{c_v\\rho_0\\theta_0}\\left(\\frac{\\partial\\rho_0\\theta_0u}{\\partial x}+\\frac{\\partial\\rho_0\\theta_0v}{\\partial y}\\right)$$"
   ]
  },
  {
   "cell_type": "markdown",
   "metadata": {},
   "source": [
    "[Volver a la Tabla de Contenido](#TOC)"
   ]
  }
 ],
 "metadata": {
  "kernelspec": {
   "display_name": "Python 3",
   "language": "python",
   "name": "python3"
  },
  "language_info": {
   "codemirror_mode": {
    "name": "ipython",
    "version": 3
   },
   "file_extension": ".py",
   "mimetype": "text/x-python",
   "name": "python",
   "nbconvert_exporter": "python",
   "pygments_lexer": "ipython3",
   "version": "3.6.10"
  },
  "toc": {
   "base_numbering": 1,
   "nav_menu": {},
   "number_sections": true,
   "sideBar": true,
   "skip_h1_title": true,
   "title_cell": "Tabla de contenido",
   "title_sidebar": "Contents",
   "toc_cell": true,
   "toc_position": {
    "height": "calc(100% - 180px)",
    "left": "10px",
    "top": "150px",
    "width": "181.6px"
   },
   "toc_section_display": true,
   "toc_window_display": true
  }
 },
 "nbformat": 4,
 "nbformat_minor": 2
}
