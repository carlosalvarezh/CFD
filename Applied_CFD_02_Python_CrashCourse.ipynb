{
 "cells": [
  {
   "cell_type": "markdown",
   "metadata": {},
   "source": [
    "# Python Crash Course"
   ]
  },
  {
   "cell_type": "markdown",
   "metadata": {},
   "source": [
    "Este documento hace parte de las notas en español del curso de la Profesora [Lorena Barba](http://lorenabarba.com/blog/cfd-python-12-steps-to-navier-stokes/ \"Lorena Barba CFD Group\") realizadas por el grupo [CAChemE](http://cacheme.org/ \"CAChem\"), todo el crédito para ellos."
   ]
  },
  {
   "cell_type": "markdown",
   "metadata": {},
   "source": [
    "¡Hola! Esto es una introducción rápida de programación en Python para ayudarte a comenzar a trabajar con el curso llamado _12 pasos para Navier-Stokes_."
   ]
  },
  {
   "cell_type": "markdown",
   "metadata": {},
   "source": [
    "## Bibliotecas (_Libraries_)"
   ]
  },
  {
   "cell_type": "markdown",
   "metadata": {},
   "source": [
    "Python es un lenguaje de alto nivel cuya filosofía hace hincapié en una sintaxis muy limpia y que favorezca un código legible. Una de las grandes ventajas de Python es que la gran mayoría de código es abierto. Pero el _Ecosistema de Python_ está habitado por muchas bibliotecas o librerías que proporcionan herramientas útiles, como las operaciones matriciales (_arrays_), representaciones gráficas, etc. Podemos importar librerías de funciones para expandir las capacidades de Python en nuestros programas.\n",
    "¡Ok! Vamos a empezar con la importación de algunas de ellas para ayudarnos."
   ]
  },
  {
   "cell_type": "code",
   "execution_count": null,
   "metadata": {
    "collapsed": true
   },
   "outputs": [],
   "source": [
    "# Los comentarios en python se establecen con almohadillas\n",
    "\n",
    "import numpy as np\n",
    "# numpy es una libería que se esta importando y permite realizar operaciones matriciales estilo MATLAB.\n",
    "# Para acceder a sus funciones se hará uso de una abreviatura mediante la siguiente nomenclatura \"np.NombreDeLaFuncion\"\n",
    "\n",
    "import matplotlib.pyplot as plt \n",
    "# matplotlib es una librería para dibujar gráficas en 2D y 3D que se usará para representar los resultados\n",
    "# Accedemos al módulo pyplot dentro de la biblioteca matplotlib. \n",
    "# pyplot es un módulo que ofrece una interfaz de gráficos similar a la de MATLAB\n",
    "# En este caso se accedera a la funciones como \"plt.NombreDeLaFuncion\""
   ]
  },
  {
   "cell_type": "markdown",
   "metadata": {},
   "source": [
    "En resumen, ¿qué es esto de `import X as x`? Mediante estos comandos, se está importando la librería (_library_) llamada `numpy` y un sub-librería o módulo de un paquete llamado `matplotlib`.  Debido a que las funciones que queremos usar pertenecen a estas librerías, se debe indicar a Python de donde pertenecen cuando se llamen. Con las dos líneas superiores se han creado accesos directos a dichas librerías como `np` y `plt`, respectivamente.  Por tanto, si se requiere el uso de la función `linspace` contenida dentro de la biblioteca `numpy`, por ejemplo, se puede llamar de la siguiente forma:"
   ]
  },
  {
   "cell_type": "code",
   "execution_count": null,
   "metadata": {},
   "outputs": [],
   "source": [
    "myarray = np.linspace(0, 5, 10)\n",
    "myarray"
   ]
  },
  {
   "cell_type": "markdown",
   "metadata": {},
   "source": [
    "Si no se indica previamente a la función `linspace` con `np`, Python dará un error."
   ]
  },
  {
   "cell_type": "code",
   "execution_count": null,
   "metadata": {},
   "outputs": [],
   "source": [
    "myarray = linspace(0, 5, 10)"
   ]
  },
  {
   "cell_type": "markdown",
   "metadata": {},
   "source": [
    "En ocasiones, se puede observar código que importa la librería directamente sin usar una abreviatura para ello (como `np` para `numpy`). Aunque el acceso a las funciones será directo y ahorraría tiempo a la hora de escribir código, no es recomendable ya que lleva a errores posteriores. ¡Mejor adquirir buenas costumbres de programación desde un principio!\n",
    "\n",
    "Para aprender las funciones que NumPy proporciona, puedes visitar la siguiente página [NumPy Reference](http://docs.scipy.org/doc/numpy/reference/). Si ya sabes programar en `MATLAB`, hay una página que te será de ayuda: [NumPy for Matlab Users](http://wiki.scipy.org/NumPy_for_MATLAB_Users).\n",
    "\n",
    "También es recomendable echar un vistazo a los primeros capítulos de [Introducción a Python para ingenieros](http://picachu.dmt.upm.es/python/index.html) de _Guillem Borrell_\n",
    "\n",
    "Por último, se puede aprender a usar el módulo `pyplot` de la librería `matplotlib` a partir del [material generado](http://nbviewer.ipython.org/github/Pybonacci/Tutorial-de-matplotlib.pyplot-en-pybonacci/blob/master/tutorial_de_matplotlib.pyplot.ipynb) por la gente de [Pybonacci](http://pybonacci.wordpress.com/tag/matplotlib-pyplot/)."
   ]
  },
  {
   "cell_type": "markdown",
   "metadata": {},
   "source": [
    "## Variables"
   ]
  },
  {
   "cell_type": "markdown",
   "metadata": {},
   "source": [
    "Python no requiere declarar explicitamente las variables tal y como ocurre en C y otros lenguajes de programación.  "
   ]
  },
  {
   "cell_type": "code",
   "execution_count": null,
   "metadata": {
    "collapsed": true
   },
   "outputs": [],
   "source": [
    "a = 5      # a es el número entero (integer) 5\n",
    "b = 'five' # b es una cadena de caracteres (string) con la palabra 'five'\n",
    "c = 5.0    # c es el número de coma flotante (floating point) 5  "
   ]
  },
  {
   "cell_type": "code",
   "execution_count": null,
   "metadata": {},
   "outputs": [],
   "source": [
    "type(a)"
   ]
  },
  {
   "cell_type": "code",
   "execution_count": null,
   "metadata": {},
   "outputs": [],
   "source": [
    "type(b)"
   ]
  },
  {
   "cell_type": "code",
   "execution_count": null,
   "metadata": {},
   "outputs": [],
   "source": [
    "type(c)"
   ]
  },
  {
   "cell_type": "markdown",
   "metadata": {},
   "source": [
    "Hay que llevar especial cuidado y asignar a las variables los números en coma flotante o se podrán obtener valores no esperados en los programas. Por ejemplo:"
   ]
  },
  {
   "cell_type": "code",
   "execution_count": null,
   "metadata": {},
   "outputs": [],
   "source": [
    "14/a"
   ]
  },
  {
   "cell_type": "code",
   "execution_count": null,
   "metadata": {},
   "outputs": [],
   "source": [
    "14/c"
   ]
  },
  {
   "cell_type": "markdown",
   "metadata": {},
   "source": [
    "Si se divide un número entero por otro entero, el resultado será redondeado al entero más próximo de la solución. Si se desea obtener una respuesta en coma flotante, uno de los números envueltos en la operación debe de serlo. Para ello, un truco es añádir un punto al final de un número entero. Es importante no confundir esta notación con las operaciones elemento por elemento tal y como hace MATLAB."
   ]
  },
  {
   "cell_type": "code",
   "execution_count": null,
   "metadata": {},
   "outputs": [],
   "source": [
    "14./a "
   ]
  },
  {
   "cell_type": "markdown",
   "metadata": {},
   "source": [
    "Si se trabaja con las últimas versiones de Python (a partir de la 3) esto deja de ocurrir ya que la división será tratada tal y como estamos acostumbrados. \n",
    "Para cambiar el comportamiento de la división en Python 2.7 se puede hacer uso de:"
   ]
  },
  {
   "cell_type": "code",
   "execution_count": null,
   "metadata": {
    "collapsed": true
   },
   "outputs": [],
   "source": [
    "from __future__ import division"
   ]
  },
  {
   "cell_type": "markdown",
   "metadata": {},
   "source": [
    "Mediante esta línea la división de dos números enteros dará decimales si la solución los tiene."
   ]
  },
  {
   "cell_type": "code",
   "execution_count": null,
   "metadata": {},
   "outputs": [],
   "source": [
    "14/a"
   ]
  },
  {
   "cell_type": "markdown",
   "metadata": {},
   "source": [
    "## Espacios (_whitespace_) en Python"
   ]
  },
  {
   "cell_type": "markdown",
   "metadata": {},
   "source": [
    "Python usa tabulaciones (_indents_) y espacios (whitespace) para agrupar el contenido de una estructura de control (for, while, if...). En realidad, el tabulado se compone por cuatro espacios en blanco y obliga a escribir código de forma ordenada. Un programa sin tabular correctamente nos devolverá un `IndentationError`. Este hecho permite además cerrar sentencias sin el uso de \"end\" lo que ayuda a la claridad del código de forma nativa. Por ejemplo, para escribir un bucle (_loop_) en C, se usaría:  \n",
    "\n",
    "    for (i = 0, i < 5, i++){\n",
    "       printf(\"Hola! \\n\");\n",
    "    }"
   ]
  },
  {
   "cell_type": "markdown",
   "metadata": {},
   "source": [
    "Python, no usa llaves \"{}\" (_curly braces_) como C en el ejemplo superior, por lo que el mismo programa escrito en Python quedaría como:"
   ]
  },
  {
   "cell_type": "code",
   "execution_count": null,
   "metadata": {},
   "outputs": [],
   "source": [
    "for i in range(5):\n",
    "    print \"¡Hola! \\n\""
   ]
  },
  {
   "cell_type": "markdown",
   "metadata": {},
   "source": [
    "Si se tienen bucles anidados (nested for-loops) o unas estructuras de control dentro de otras, se debe añadir un tabulado en el interior. Por ejemplo para dos bucles for:"
   ]
  },
  {
   "cell_type": "code",
   "execution_count": null,
   "metadata": {},
   "outputs": [],
   "source": [
    "for i in range(3):\n",
    "    for j in range(3):\n",
    "        print i, j\n",
    "    \n",
    "    print \"Esta sentencia pertenece al bucle 'i', pero no al bucle 'j'\""
   ]
  },
  {
   "cell_type": "markdown",
   "metadata": {},
   "source": [
    "Nota: Por si no lo sabías, la `\\n` al final indica que que se escriba una nueva línea. ¡Ah!, si estás usando una versión más reciente de Python (3.x), `print` se tratará siempre como si fuera una función: `print(\"¡Hola!\")`"
   ]
  },
  {
   "cell_type": "markdown",
   "metadata": {},
   "source": [
    "## Trabajando con arrays"
   ]
  },
  {
   "cell_type": "markdown",
   "metadata": {},
   "source": [
    "Un array es un conjunto de valores con el mismo tipo, esto es, todos sus elementos son enteros, reales en doble precisión, complejos en simple precisión...\n",
    "\n",
    "La clase array es más parecida a los arrays que se encuentran en C o en Fortran que a las matrices de `MATLAB`. Es importante destacar que <b>todas las operaciones aritméticas entre arrays se ejecutan elemento a elemento</b> y no como multiplicaciones matriciales tal y como ocurre en `MATLAB`.\n",
    "\n",
    "En NumPy, se pueden seleccionar valores de arrays de forma similar que en `MATLAB`. Creamos un array con valores de 1 a 5:"
   ]
  },
  {
   "cell_type": "code",
   "execution_count": null,
   "metadata": {},
   "outputs": [],
   "source": [
    "myvals = np.array([1, 2, 3, 4, 5])\n",
    "myvals"
   ]
  },
  {
   "cell_type": "markdown",
   "metadata": {},
   "source": [
    "Python indexa con la numeración a partir de cero (**zero-based index**), asi que vamos a ver el primero y último elemento en el array `myvals`:"
   ]
  },
  {
   "cell_type": "code",
   "execution_count": null,
   "metadata": {},
   "outputs": [],
   "source": [
    "myvals[0], myvals[4]"
   ]
  },
  {
   "cell_type": "markdown",
   "metadata": {},
   "source": [
    "Hay 5 elementos en el array `myvals`,  pero si tratamos de ver el `myvals[5]`, Python se quejará ya que `myvals[5]` está llamando a un 6º elemento que no existe en este array."
   ]
  },
  {
   "cell_type": "code",
   "execution_count": null,
   "metadata": {},
   "outputs": [],
   "source": [
    "myvals[5]"
   ]
  },
  {
   "cell_type": "markdown",
   "metadata": {},
   "source": [
    "Los arrays tambien pueden ser divididos o cortados (_sliced_) seleccionando un rango de valores. Veamos cómo seleccionar los tres primeros elementos:"
   ]
  },
  {
   "cell_type": "code",
   "execution_count": null,
   "metadata": {},
   "outputs": [],
   "source": [
    "myvals[0:3]"
   ]
  },
  {
   "cell_type": "markdown",
   "metadata": {},
   "source": [
    "Fíjate que **la selección de elementos incluye el valor inicial y excluye el final**. El comando de arriba devuelve los valores de `myvals[0]`, `myvals[1]` y `myvals[2]`, pero no de `myvals[3]`.\n",
    "\n",
    "Python posibilita la utilización de índices negativos para numerar una secuencia desde el final. De esta forma, el elemento correspondiente al índice -1 será el último elemento de la secuencia"
   ]
  },
  {
   "cell_type": "code",
   "execution_count": null,
   "metadata": {},
   "outputs": [],
   "source": [
    "myvals[-1]"
   ]
  },
  {
   "cell_type": "markdown",
   "metadata": {},
   "source": [
    "## Asignando variables con array"
   ]
  },
  {
   "cell_type": "markdown",
   "metadata": {},
   "source": [
    "Una de los capricho-funcionalidades en Python que suele confundir a la gente es la asignación y comparación de arrays de valores. Por ejemplo, definamos un array de una dimensión (1-D) llamado $a$:"
   ]
  },
  {
   "cell_type": "code",
   "execution_count": null,
   "metadata": {
    "collapsed": true
   },
   "outputs": [],
   "source": [
    "a = np.linspace(1,5,5)"
   ]
  },
  {
   "cell_type": "code",
   "execution_count": null,
   "metadata": {},
   "outputs": [],
   "source": [
    "a"
   ]
  },
  {
   "cell_type": "markdown",
   "metadata": {},
   "source": [
    "OK, entonces tenemos un array $a$, con los valores del 1 al 5. Si quiero hacer una copia de este array, llamado $b$, haré lo siguiente: "
   ]
  },
  {
   "cell_type": "code",
   "execution_count": null,
   "metadata": {
    "collapsed": true
   },
   "outputs": [],
   "source": [
    "b = a"
   ]
  },
  {
   "cell_type": "code",
   "execution_count": null,
   "metadata": {},
   "outputs": [],
   "source": [
    "b"
   ]
  },
  {
   "cell_type": "markdown",
   "metadata": {},
   "source": [
    "Genial. Entonces $a$ tiene los valores de 1 a 5 tal y como tengo ahora para $b$.  Ya que tengo una copia de $a$, puedo cambiar sus valores sin preocuparme de perder datos (¡o eso puedo pensar!)"
   ]
  },
  {
   "cell_type": "code",
   "execution_count": null,
   "metadata": {
    "collapsed": true
   },
   "outputs": [],
   "source": [
    "a[2] = 17"
   ]
  },
  {
   "cell_type": "code",
   "execution_count": null,
   "metadata": {},
   "outputs": [],
   "source": [
    "a"
   ]
  },
  {
   "cell_type": "markdown",
   "metadata": {},
   "source": [
    "Aquí el 3º elemento de $a$ se ha cambiado a 17.  Vamos ahora a comprobar que ha pasado con $b$."
   ]
  },
  {
   "cell_type": "code",
   "execution_count": null,
   "metadata": {},
   "outputs": [],
   "source": [
    "b"
   ]
  },
  {
   "cell_type": "markdown",
   "metadata": {},
   "source": [
    "¡Y aquí es donde las cosas fallan! Cuando se usa una declaración del tipo $a = b$, más que copiar todos los valores de $a$ a un nuevo array llamado $b$, Python simplemente crea un alias (o puntero) llamado $b$ y lo referencia con $a$. Por lo que si cambiamos el valor en  $a$ entonces $b$ reflejará ese cambio (técnicamente, esto se llama *assignment by reference*).  Si se quiere realizar una copia real de un array, se tiene que decir a Python que copie todos los elementos de $a$ en un nuevo array. Llamémosle $c$. "
   ]
  },
  {
   "cell_type": "code",
   "execution_count": null,
   "metadata": {
    "collapsed": true
   },
   "outputs": [],
   "source": [
    "c[:] = a[:]"
   ]
  },
  {
   "cell_type": "markdown",
   "metadata": {},
   "source": [
    "Desafortundamente, si queremos hacer una copia real, los nuevos arrays deben de ser definidos primero y deben de tener el mismo número de elementos. Por lo que será un proceso con dos pasos. Se puede definir un array \"vacío\" que sea de las mismas dimensiones que $a$ usando la funcion de numpy `empty_like`:"
   ]
  },
  {
   "cell_type": "code",
   "execution_count": null,
   "metadata": {
    "collapsed": true
   },
   "outputs": [],
   "source": [
    "c = np.empty_like(a)"
   ]
  },
  {
   "cell_type": "code",
   "execution_count": null,
   "metadata": {},
   "outputs": [],
   "source": [
    "len(c) # muestra la longitud de c"
   ]
  },
  {
   "cell_type": "code",
   "execution_count": null,
   "metadata": {
    "collapsed": true
   },
   "outputs": [],
   "source": [
    "c[:]=a[:] # copia los elementos de a en c"
   ]
  },
  {
   "cell_type": "code",
   "execution_count": null,
   "metadata": {},
   "outputs": [],
   "source": [
    "c"
   ]
  },
  {
   "cell_type": "markdown",
   "metadata": {},
   "source": [
    "Ahora, podemos probar de nuevo a cambiar un valor de $a$ y ver si también cambia el valor en $c$.  "
   ]
  },
  {
   "cell_type": "code",
   "execution_count": null,
   "metadata": {
    "collapsed": true
   },
   "outputs": [],
   "source": [
    "a[2] = 3"
   ]
  },
  {
   "cell_type": "code",
   "execution_count": null,
   "metadata": {},
   "outputs": [],
   "source": [
    "a"
   ]
  },
  {
   "cell_type": "code",
   "execution_count": null,
   "metadata": {},
   "outputs": [],
   "source": [
    "c"
   ]
  },
  {
   "cell_type": "markdown",
   "metadata": {},
   "source": [
    "¡Funcionó!  Si la diferencia entre `a = b` y `a[:]=b[:]` no está clara, deberías leer este apartado de nuevo. Esta cuestión volverá a aparecer más adelante para ponerte a prueba."
   ]
  },
  {
   "cell_type": "markdown",
   "metadata": {},
   "source": [
    "_NOTA_ : Existe una forma más sencilla de copiar arrays en NumPy y es mediante la función `copy()`"
   ]
  },
  {
   "cell_type": "code",
   "execution_count": null,
   "metadata": {
    "collapsed": true
   },
   "outputs": [],
   "source": [
    "a = np.linspace(1,5,5)\n",
    "d = np.copy(a)\n"
   ]
  },
  {
   "cell_type": "code",
   "execution_count": null,
   "metadata": {},
   "outputs": [],
   "source": [
    "d"
   ]
  },
  {
   "cell_type": "code",
   "execution_count": null,
   "metadata": {
    "collapsed": true
   },
   "outputs": [],
   "source": [
    "a[2] = 17\n"
   ]
  },
  {
   "cell_type": "code",
   "execution_count": null,
   "metadata": {},
   "outputs": [],
   "source": [
    "a"
   ]
  },
  {
   "cell_type": "code",
   "execution_count": null,
   "metadata": {},
   "outputs": [],
   "source": [
    "d"
   ]
  },
  {
   "cell_type": "markdown",
   "metadata": {},
   "source": [
    "## Más información."
   ]
  },
  {
   "cell_type": "markdown",
   "metadata": {},
   "source": [
    "Hay muchos recursos online para aprender más sobre NumPy y otras librerías. Sólo por diversión, vamos a usar una funcionalidad de IPython para incluir un vídeo de YouTube en este notebook."
   ]
  },
  {
   "cell_type": "code",
   "execution_count": null,
   "metadata": {},
   "outputs": [],
   "source": [
    "from IPython.display import YouTubeVideo\n",
    "# Un pequeño vídeo en inglés de como trabajar con arrays en NumPy arrays, de Enthought\n",
    "YouTubeVideo('vWkb7VahaXQ')"
   ]
  },
  {
   "cell_type": "code",
   "execution_count": 1,
   "metadata": {},
   "outputs": [
    {
     "ename": "FileNotFoundError",
     "evalue": "[Errno 2] No such file or directory: '../styles/custom.css'",
     "output_type": "error",
     "traceback": [
      "\u001b[1;31m---------------------------------------------------------------------------\u001b[0m",
      "\u001b[1;31mFileNotFoundError\u001b[0m                         Traceback (most recent call last)",
      "\u001b[1;32m<ipython-input-1-ddce439eb638>\u001b[0m in \u001b[0;36m<module>\u001b[1;34m()\u001b[0m\n\u001b[0;32m      3\u001b[0m     \u001b[0mstyles\u001b[0m \u001b[1;33m=\u001b[0m \u001b[0mopen\u001b[0m\u001b[1;33m(\u001b[0m\u001b[1;34m\"../styles/custom.css\"\u001b[0m\u001b[1;33m,\u001b[0m \u001b[1;34m\"r\"\u001b[0m\u001b[1;33m)\u001b[0m\u001b[1;33m.\u001b[0m\u001b[0mread\u001b[0m\u001b[1;33m(\u001b[0m\u001b[1;33m)\u001b[0m\u001b[1;33m\u001b[0m\u001b[0m\n\u001b[0;32m      4\u001b[0m     \u001b[1;32mreturn\u001b[0m \u001b[0mHTML\u001b[0m\u001b[1;33m(\u001b[0m\u001b[0mstyles\u001b[0m\u001b[1;33m)\u001b[0m\u001b[1;33m\u001b[0m\u001b[0m\n\u001b[1;32m----> 5\u001b[1;33m \u001b[0mcss_styling\u001b[0m\u001b[1;33m(\u001b[0m\u001b[1;33m)\u001b[0m\u001b[1;33m\u001b[0m\u001b[0m\n\u001b[0m",
      "\u001b[1;32m<ipython-input-1-ddce439eb638>\u001b[0m in \u001b[0;36mcss_styling\u001b[1;34m()\u001b[0m\n\u001b[0;32m      1\u001b[0m \u001b[1;32mfrom\u001b[0m \u001b[0mIPython\u001b[0m\u001b[1;33m.\u001b[0m\u001b[0mcore\u001b[0m\u001b[1;33m.\u001b[0m\u001b[0mdisplay\u001b[0m \u001b[1;32mimport\u001b[0m \u001b[0mHTML\u001b[0m\u001b[1;33m\u001b[0m\u001b[0m\n\u001b[0;32m      2\u001b[0m \u001b[1;32mdef\u001b[0m \u001b[0mcss_styling\u001b[0m\u001b[1;33m(\u001b[0m\u001b[1;33m)\u001b[0m\u001b[1;33m:\u001b[0m\u001b[1;33m\u001b[0m\u001b[0m\n\u001b[1;32m----> 3\u001b[1;33m     \u001b[0mstyles\u001b[0m \u001b[1;33m=\u001b[0m \u001b[0mopen\u001b[0m\u001b[1;33m(\u001b[0m\u001b[1;34m\"../styles/custom.css\"\u001b[0m\u001b[1;33m,\u001b[0m \u001b[1;34m\"r\"\u001b[0m\u001b[1;33m)\u001b[0m\u001b[1;33m.\u001b[0m\u001b[0mread\u001b[0m\u001b[1;33m(\u001b[0m\u001b[1;33m)\u001b[0m\u001b[1;33m\u001b[0m\u001b[0m\n\u001b[0m\u001b[0;32m      4\u001b[0m     \u001b[1;32mreturn\u001b[0m \u001b[0mHTML\u001b[0m\u001b[1;33m(\u001b[0m\u001b[0mstyles\u001b[0m\u001b[1;33m)\u001b[0m\u001b[1;33m\u001b[0m\u001b[0m\n\u001b[0;32m      5\u001b[0m \u001b[0mcss_styling\u001b[0m\u001b[1;33m(\u001b[0m\u001b[1;33m)\u001b[0m\u001b[1;33m\u001b[0m\u001b[0m\n",
      "\u001b[1;31mFileNotFoundError\u001b[0m: [Errno 2] No such file or directory: '../styles/custom.css'"
     ]
    }
   ],
   "source": [
    "from IPython.core.display import HTML\n",
    "def css_styling():\n",
    "    styles = open(\"../styles/custom.css\", \"r\").read()\n",
    "    return HTML(styles)\n",
    "css_styling()"
   ]
  },
  {
   "cell_type": "code",
   "execution_count": null,
   "metadata": {},
   "outputs": [],
   "source": []
  }
 ],
 "metadata": {
  "kernelspec": {
   "display_name": "Python 3",
   "language": "python",
   "name": "python3"
  },
  "language_info": {
   "codemirror_mode": {
    "name": "ipython",
    "version": 3
   },
   "file_extension": ".py",
   "mimetype": "text/x-python",
   "name": "python",
   "nbconvert_exporter": "python",
   "pygments_lexer": "ipython3",
   "version": "3.6.7"
  }
 },
 "nbformat": 4,
 "nbformat_minor": 1
}
