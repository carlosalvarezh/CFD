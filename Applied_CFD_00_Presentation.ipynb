{
 "cells": [
  {
   "cell_type": "markdown",
   "metadata": {
    "slideshow": {
     "slide_type": "slide"
    }
   },
   "source": [
    "![Imagen](http://www.eafit.edu.co/SiteCollectionImages/logo.png?raw=true \"\")\n",
    "\n",
    "\n",
    "<h1 align=\"center\">Dinámica de Fluidos Computacional Aplicada - IM0642</h1>\n",
    "\n",
    "<h2 align=\"center\">Sesión 00: Introducción\n",
    "\n",
    "<h2 align=\"center\">ESCUELA DE INGENIERÍA</h2>\n",
    "\n",
    "<h2 align=\"center\">Especialización en Turbomáquinas</h2>\n",
    "\n",
    "<h3 align=\"center\">MEDELLÍN - COLOMBIA </h3>\n",
    "\n",
    "<h3 align=\"center\">2020/01 </h3>"
   ]
  },
  {
   "cell_type": "markdown",
   "metadata": {
    "slideshow": {
     "slide_type": "subslide"
    }
   },
   "source": [
    "# Docentes: \n",
    "\n",
    "- Jesus Alberto Pérez Mesa, I.M. MSc., Coordinador Especialización en Turbomáquinas\n",
    "\n",
    "- Carlos Alberto Álvarez Henao, I.C. Ph.D., Docente\n",
    "\n",
    "- Daniel Felipe Tobón, I.M. MSc., Docente"
   ]
  },
  {
   "cell_type": "markdown",
   "metadata": {},
   "source": [
    "# Objetivo general\n",
    "\n",
    "> El curso provee las bases matemáticas y la aplicación de los métodos computacionales para resolver problemas en mecánica de Fluidos. Se enfoca en presentar una vista general de los modelos físicos necesarios para un estudio avanzado en la Mecánica de Fluido. Se estudian las diferentes modelos computaciones para la solución de las ecuaciones que gobiernan la mecánica de fluidos con énfasis métodos de solución discreta como Diferencias Finitas, Volúmenes Finitos, Elementos Finitos.\n",
    "\n",
    "> El curso prepara futuros usuarios del CFD para hacer el mejor uso posible de la tecnología disponible haciendo énfasis en las bases de la mecánica de fluidos,  el entendimiento de sus bases matemáticas y las aplicaciones potenciales de los modelos constitutivos aplicados a las necesidades particulares de cada uno en su respectivo campo de acción."
   ]
  },
  {
   "cell_type": "markdown",
   "metadata": {},
   "source": [
    "# Metodología\n",
    "\n",
    "> clases magistrales con 18 sesiones de  2:00 cada una (36 horas en total)"
   ]
  },
  {
   "cell_type": "markdown",
   "metadata": {},
   "source": [
    "# Prácticas\n",
    "\n",
    "> A lo largo del curso se realizarán ejemplos prácticos de aplicacioń empleando principalmente el lenguaje de programación  `Pythhon`, y en otras prácticas más dirigidas se hará uso de otros tipos de software más especializados de uso libre o algunos que la Universidad cuenta con licenciamiento."
   ]
  },
  {
   "cell_type": "markdown",
   "metadata": {
    "slideshow": {
     "slide_type": "slide"
    }
   },
   "source": [
    "# Contenido"
   ]
  },
  {
   "cell_type": "markdown",
   "metadata": {
    "slideshow": {
     "slide_type": "subslide"
    }
   },
   "source": [
    "***Sesiones 01-02 (feb. 01-08):*** Introducción y Motivación \n",
    "\n",
    "- Presentación del curso\n",
    "- Introducción a la *CFD*\n",
    "- Proceso de simulación"
   ]
  },
  {
   "cell_type": "markdown",
   "metadata": {
    "slideshow": {
     "slide_type": "subslide"
    }
   },
   "source": [
    "***Sesión 03 (feb. 15):*** *Python* crash course\n",
    "\n",
    "- Uso del *Notebook Jupyter*\n",
    "- Introducción al *Python*\n",
    "- Bibliotecas\n",
    "- Variables\n",
    "- Arreglos"
   ]
  },
  {
   "cell_type": "markdown",
   "metadata": {
    "slideshow": {
     "slide_type": "subslide"
    }
   },
   "source": [
    "***Sesión 04 (feb. 22):*** Formulación diferencial para las ecuaciones de fluidos\n",
    "\n",
    "  - Derivación de las ecuaciones de conservación\n",
    "  - Las ecuaciones de *Navier Stokes* para un fluido newtoniano"
   ]
  },
  {
   "cell_type": "markdown",
   "metadata": {
    "slideshow": {
     "slide_type": "subslide"
    }
   },
   "source": [
    "***Sesiones 05-06 (feb. 29 y mar. 07):*** Aspectos matemáticos de la CFD\n",
    "\n",
    "  - Ecuaciones Diferenciales en Derivadas Parciales\n",
    "  - Aproximaciones en Diferencias Finitas\n",
    "  - Expansiones en Series de Taylor\n",
    "  - Condiciones iniciales y de contorno\n",
    "  - Discretización de ecuaciones \n",
    "    - Estacionarias\n",
    "    - No–estacionarias\n",
    "      - Explícitas\n",
    "      - Implícitas\n",
    "    - Multidimensional"
   ]
  },
  {
   "cell_type": "markdown",
   "metadata": {
    "slideshow": {
     "slide_type": "subslide"
    }
   },
   "source": [
    "***Sesión 07 (mar. 14):*** Análisis de esquemas numéricos\n",
    "  - Consistencia, estabilidad y análisis de error\n",
    "  - Teorema de Lax\n",
    "  - Consistencia y modificación de una EDP\n",
    "  - Condición CFL\n",
    "  - Análisis de estabilidad de von Neumann\n",
    "  - Factor de amplificación"
   ]
  },
  {
   "cell_type": "markdown",
   "metadata": {
    "slideshow": {
     "slide_type": "subslide"
    }
   },
   "source": [
    "***Sesiones 08-09 (mar. 21-28):*** Discretización de dominios\n",
    "\n",
    "- Malla\n",
    "- Representación de la malla\n",
    "- Tipos de malla\n",
    "- Creación de mallas"
   ]
  },
  {
   "cell_type": "markdown",
   "metadata": {},
   "source": [
    "***Sesión 10 (abr. 04):*** Presentación Proyecto programación\n",
    "\n",
    "- Coordina: profesor *Daniel Felipe Tobón*"
   ]
  },
  {
   "cell_type": "markdown",
   "metadata": {},
   "source": [
    "***Sesiones 11-12-13 (a combinar):*** Taller práctico (6 horas)\n",
    "\n",
    "- Coordina: profesor *Daniel Felipe Tobón*"
   ]
  },
  {
   "cell_type": "markdown",
   "metadata": {},
   "source": [
    "***Sesión 14 (abr. 18):***\n",
    "\n",
    "Exámen parcial"
   ]
  },
  {
   "cell_type": "markdown",
   "metadata": {
    "slideshow": {
     "slide_type": "subslide"
    }
   },
   "source": [
    "***Sesión 15 (abr. 25):*** *The 12 steps to Computing Navier - Stokes Equation*\n",
    "\n",
    "***Notes from [Lorena Barba](http://lorenabarba.com/blog/cfd-python-12-steps-to-navier-stokes/ \"Lorena Barba CFD Group\")***\n",
    "\n",
    "  - Step 01: 1D Linear Convection (Advection)\n",
    "  - Step 02: 1D Convection (shocks)\n",
    "  - Step 03: 1D Diffusion (Heat Equation)\n",
    "  - Step 04: 1D Burger's Equation"
   ]
  },
  {
   "cell_type": "markdown",
   "metadata": {
    "slideshow": {
     "slide_type": "subslide"
    }
   },
   "source": [
    "***Sesión 16 (may. 09):*** The 12 steps to Computing Navier - Stokes Equation (cont...)\n",
    "  - Explicit / Implicit FD Formulas\n",
    "  - Step 05: 2D Linear Convection (Advection)\n",
    "  - Step 06: 2D Convection (shocks)\n",
    "  - Step 07: 2D Diffusion (Heat Equation)\n",
    "  - Step 08: 2D Burger's Equation\n"
   ]
  },
  {
   "cell_type": "markdown",
   "metadata": {
    "slideshow": {
     "slide_type": "subslide"
    }
   },
   "source": [
    "***Sesión 17 (may. 16):*** The 12 steps to Computing Navier - Stokes Equation. (cont...)\n",
    "  - Step 09: Laplace Equation\n",
    "  - Step 10: Poisson Equation\n",
    "  - Step 11: Navier - Stokes Equations Case 1: Cavity\n",
    "  - Step 12: Navier - Stokes Equations Case 2: Channel"
   ]
  },
  {
   "cell_type": "markdown",
   "metadata": {},
   "source": [
    "***Sesión 18 (may. 23):*** Presentación Proyecto final programación\n",
    "\n",
    "- A cargo de los profesores del curso"
   ]
  },
  {
   "cell_type": "markdown",
   "metadata": {
    "slideshow": {
     "slide_type": "slide"
    }
   },
   "source": [
    "# Evaluación\n",
    "\n",
    "- Seguimiento (Quices y Tareas): 40%\n",
    "\n",
    "- Exámen Parcial: 20%\n",
    "\n",
    "- Proyecto de Programación: 40%"
   ]
  },
  {
   "cell_type": "markdown",
   "metadata": {
    "slideshow": {
     "slide_type": "slide"
    }
   },
   "source": [
    "# Recursos bibliográficos\n",
    "\n",
    "## Libros y documentos\n",
    "\n",
    "- [Lorena A. Barba group - CFD Python: 12 steps to Navier-Stokes](http://lorenabarba.com/blog/cfd-python-12-steps-to-navier-stokes/)\n",
    "\n",
    "\n",
    "- [Kuzmin, Dmitri. A Guide to Numerical Methods for Transport Equations ](http://www.mathematik.uni-dortmund.de/~kuzmin/Transport.pdf)\n",
    "\n",
    "\n",
    "- [LeVeque, Randall J. Finite Difference Methods for Differential Equations](https://edisciplinas.usp.br/pluginfile.php/41896/mod_resource/content/1/LeVeque%20Finite%20Diff.pdf)\n",
    "\n",
    "\n",
    "- [CFD Online](https://www.cfd-online.com/)\n",
    "\n",
    "\n",
    "## Software\n",
    "\n",
    "\n",
    "- [Python](https://www.python.org)\n",
    "\n",
    "\n",
    "- [Gmsh](http://gmsh.info/)\n",
    "\n",
    "\n",
    "- [Openfoam](http://www.openfoam.com)\n",
    "\n",
    "\n",
    "- [ANSYS](www.ansys.com/)\n"
   ]
  },
  {
   "cell_type": "code",
   "execution_count": null,
   "metadata": {},
   "outputs": [],
   "source": []
  }
 ],
 "metadata": {
  "celltoolbar": "Slideshow",
  "kernelspec": {
   "display_name": "Python 3",
   "language": "python",
   "name": "python3"
  },
  "language_info": {
   "codemirror_mode": {
    "name": "ipython",
    "version": 3
   },
   "file_extension": ".py",
   "mimetype": "text/x-python",
   "name": "python",
   "nbconvert_exporter": "python",
   "pygments_lexer": "ipython3",
   "version": "3.7.6"
  }
 },
 "nbformat": 4,
 "nbformat_minor": 2
}
