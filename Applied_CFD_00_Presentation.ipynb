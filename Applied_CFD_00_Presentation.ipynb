{
 "cells": [
  {
   "cell_type": "markdown",
   "metadata": {
    "slideshow": {
     "slide_type": "slide"
    }
   },
   "source": [
    "![Imagen](http://www.eafit.edu.co/SiteCollectionImages/logo.png?raw=true \"\")\n",
    "\n",
    "\n",
    "<h1 align=\"center\">Dinámica de Fluidos Computacional Aplicada - IM0642</h1>\n",
    "\n",
    "<h2 align=\"center\">Sesión 00: Introducción al curso \n",
    "\n",
    "<h2 align=\"center\">ESCUELA DE INGENIERÍA</h2>\n",
    "\n",
    "<h2 align=\"center\">Especialización en Turbomáquinas</h2>\n",
    "\n",
    "<h3 align=\"center\">MEDELLÍN - COLOMBIA </h3>\n",
    "\n",
    "<h3 align=\"center\">2019/01 </h3>"
   ]
  },
  {
   "cell_type": "markdown",
   "metadata": {
    "slideshow": {
     "slide_type": "subslide"
    }
   },
   "source": [
    "### Docente: Carlos Alberto Álvarez Henao, I.C. Ph.D."
   ]
  },
  {
   "cell_type": "markdown",
   "metadata": {
    "slideshow": {
     "slide_type": "slide"
    }
   },
   "source": [
    "# Contenido"
   ]
  },
  {
   "cell_type": "markdown",
   "metadata": {
    "slideshow": {
     "slide_type": "subslide"
    }
   },
   "source": [
    "***Sesión 01 (01/26):*** Introducción y Motivación \n",
    "\n",
    "- Presentación del curso\n",
    "- Introducción a la *CFD*\n",
    "- Proceso de simulación"
   ]
  },
  {
   "cell_type": "markdown",
   "metadata": {},
   "source": [
    "***Sesión (02/02)*** No hay clase "
   ]
  },
  {
   "cell_type": "markdown",
   "metadata": {
    "slideshow": {
     "slide_type": "subslide"
    }
   },
   "source": [
    "***Sesión 02 (02/09):*** *Python* crash course\n",
    "\n",
    "- Uso del *Notebook Jupyter*\n",
    "- Introducción al *Python*\n",
    "- Bibliotecas\n",
    "- Variables\n",
    "- Arreglos"
   ]
  },
  {
   "cell_type": "markdown",
   "metadata": {
    "slideshow": {
     "slide_type": "subslide"
    }
   },
   "source": [
    "***Sesión 03 (02/16):*** Formulación diferencial para las ecuaciones de fluidos\n",
    "\n",
    "  - Derivación de las ecuaciones de conservación de la masa (Continuidad)\n",
    "  - Derivación de las ecuaciones de conservación del  Momentum\n",
    "  - Las ecuaciones de *Navier Stokes* para un fluido newtoniano"
   ]
  },
  {
   "cell_type": "markdown",
   "metadata": {},
   "source": [
    "***Sesión 04 (02/23):*** Presentación Proyecto programación\n",
    "\n",
    "- A cargo del profesor Daniel Felipe Tobón"
   ]
  },
  {
   "cell_type": "markdown",
   "metadata": {
    "slideshow": {
     "slide_type": "subslide"
    }
   },
   "source": [
    "***Sesión 05 (03/02):*** Aspectos matemáticos de la CFD\n",
    "\n",
    "  - Ecuaciones Diferenciales en Derivadas Parciales\n",
    "  - Aproximaciones en Diferencias Finitas\n",
    "  - Expansiones en Series de Taylor\n",
    "  - Condiciones iniciales y de contorno\n",
    "  - Discretización de ecuaciones \n",
    "    - Estacionarias\n",
    "    - No–estacionarias\n",
    "      - Explícitas\n",
    "      - Implícitas\n",
    "    - Multidimensional\n",
    "  - Consistencia – Convergencia – Estabilidad"
   ]
  },
  {
   "cell_type": "markdown",
   "metadata": {},
   "source": [
    "***Sesión 06 (03/09):*** Taller práctico\n",
    "\n",
    "Coordina: profesor Daniel Felipe Tobón"
   ]
  },
  {
   "cell_type": "markdown",
   "metadata": {
    "slideshow": {
     "slide_type": "subslide"
    }
   },
   "source": [
    "***Sesión 07 (03/16):*** *The 12 steps to Computing Navier - Stokes Equation*\n",
    "\n",
    "***Notes from [Lorena Barba](http://lorenabarba.com/blog/cfd-python-12-steps-to-navier-stokes/ \"Lorena Barba CFD Group\")***\n",
    "\n",
    "  - Step 01: 1D Linear Convection (Advection)\n",
    "  - Step 02: 1D Convection (shocks)\n",
    "  - Step 03: 1D Diffusion (Heat Equation)\n",
    "  - Step 04: 1D Burger's Equation"
   ]
  },
  {
   "cell_type": "markdown",
   "metadata": {
    "slideshow": {
     "slide_type": "subslide"
    }
   },
   "source": [
    "***Sesión 03/23:*** NO hay clase (lunes 03/25 festivo)"
   ]
  },
  {
   "cell_type": "markdown",
   "metadata": {
    "slideshow": {
     "slide_type": "subslide"
    }
   },
   "source": [
    "***Sesión 08 (03/30):*** The 12 steps to Computing Navier - Stokes Equation (cont...)\n",
    "  - Explicit / Implicit FD Formulas\n",
    "  - Step 05: 2D Linear Convection (Advection)\n",
    "  - Step 06: 2D Convection (shocks)\n",
    "  - Step 07: 2D Diffusion (Heat Equation)\n",
    "  - Step 08: 2D Burger's Equation\n"
   ]
  },
  {
   "cell_type": "markdown",
   "metadata": {
    "slideshow": {
     "slide_type": "subslide"
    }
   },
   "source": [
    "***Sesión 09 (04/06):*** Analysis of Numerical Schemes\n",
    "  - Consistency, Stability and Error Analysis\n",
    "  - Equivalence Theorem of Lax\n",
    "  - Consistency and Modified Differential Equation\n",
    "  - CFL condition\n",
    "  - von Neumann Stability Analysis\n",
    "  - The Amplification Factor"
   ]
  },
  {
   "cell_type": "markdown",
   "metadata": {
    "slideshow": {
     "slide_type": "subslide"
    }
   },
   "source": [
    "***Sesión 10 (04/13):*** The 12 steps to Computing Navier - Stokes Equation (cont...)\n",
    "  - Step 09: Laplace Equation\n",
    "  - Step 10: Poisson Equation\n",
    "  - Step 11: Navier - Stokes Equations Case 1: Cavity\n",
    "  - Step 12: Navier - Stokes Equations Case 2: Channel"
   ]
  },
  {
   "cell_type": "markdown",
   "metadata": {
    "slideshow": {
     "slide_type": "subslide"
    }
   },
   "source": [
    "***Sesión (04/20):*** NO hay clase (Semana Santa)"
   ]
  },
  {
   "cell_type": "markdown",
   "metadata": {
    "slideshow": {
     "slide_type": "subslide"
    }
   },
   "source": [
    "***Sesión 11 (04/27):*** Mesh Generation"
   ]
  },
  {
   "cell_type": "markdown",
   "metadata": {},
   "source": [
    "***Sesión 12 (05/04):*** Presentación Proyecto final programación\n",
    "\n",
    "- A cargo de los profesores del curso"
   ]
  },
  {
   "cell_type": "markdown",
   "metadata": {
    "slideshow": {
     "slide_type": "slide"
    }
   },
   "source": [
    "### Evaluación\n",
    "\n",
    "- Quices y Tareas: 20%\n",
    "\n",
    "- Exámen Parcial: 2 $\\times$ 20%\n",
    "\n",
    "- Proyecto de Programación: 40%"
   ]
  },
  {
   "cell_type": "markdown",
   "metadata": {
    "slideshow": {
     "slide_type": "slide"
    }
   },
   "source": [
    "### Bibliografía"
   ]
  },
  {
   "cell_type": "markdown",
   "metadata": {},
   "source": [
    "- [Lorena A. Barba group - CFD Python: 12 steps to Navier-Stokes](http://lorenabarba.com/blog/cfd-python-12-steps-to-navier-stokes/)"
   ]
  },
  {
   "cell_type": "code",
   "execution_count": null,
   "metadata": {},
   "outputs": [],
   "source": [
    "from IPython.display import HTML\n",
    "HTML('<iframe src=\"http://lorenabarba.com/blog/cfd-python-12-steps-to-navier-stokes/\" width=\"800\" height=\"600\"></iframe>')"
   ]
  },
  {
   "cell_type": "markdown",
   "metadata": {},
   "source": [
    "- [Kuzmin, Dmitri. Introduction to Computational Fluid Dynamics](http://www.mathematik.uni-dortmund.de/~kuzmin/cfdintro/cfd.html)"
   ]
  },
  {
   "cell_type": "code",
   "execution_count": null,
   "metadata": {},
   "outputs": [],
   "source": [
    "HTML('<iframe src=\"http://www.mathematik.uni-dortmund.de/~kuzmin/cfdintro/cfd.html\" width=\"800\" height=\"600\"></iframe>')"
   ]
  },
  {
   "cell_type": "markdown",
   "metadata": {
    "slideshow": {
     "slide_type": "subslide"
    }
   },
   "source": [
    "- [LeVeque, Randall J. Finite Difference Methods for Differential Equations](https://edisciplinas.usp.br/pluginfile.php/41896/mod_resource/content/1/LeVeque%20Finite%20Diff.pdf)"
   ]
  },
  {
   "cell_type": "code",
   "execution_count": null,
   "metadata": {
    "slideshow": {
     "slide_type": "fragment"
    }
   },
   "outputs": [],
   "source": [
    "HTML('<iframe src=\"https://edisciplinas.usp.br/pluginfile.php/41896/mod_resource/content/1/LeVeque%20Finite%20Diff.pdf\" width=\"800\" height=\"600\"></iframe>')"
   ]
  },
  {
   "cell_type": "markdown",
   "metadata": {
    "slideshow": {
     "slide_type": "subslide"
    }
   },
   "source": [
    "- [CFD Online](https://www.cfd-online.com/)"
   ]
  },
  {
   "cell_type": "code",
   "execution_count": null,
   "metadata": {
    "slideshow": {
     "slide_type": "fragment"
    }
   },
   "outputs": [],
   "source": [
    "HTML('<iframe src=\"https://www.cfd-online.com\" width=\"1000\" height=\"600\"></iframe>')"
   ]
  },
  {
   "cell_type": "markdown",
   "metadata": {
    "slideshow": {
     "slide_type": "subslide"
    }
   },
   "source": [
    "[Openfoam](http://www.openfoam.com)"
   ]
  },
  {
   "cell_type": "code",
   "execution_count": null,
   "metadata": {
    "slideshow": {
     "slide_type": "fragment"
    }
   },
   "outputs": [],
   "source": [
    "HTML('<iframe src=\"http://www.openfoam.com\" width=\"1000\" height=\"600\"></iframe>')"
   ]
  },
  {
   "cell_type": "markdown",
   "metadata": {
    "slideshow": {
     "slide_type": "subslide"
    }
   },
   "source": [
    "[ANSYS](www.ansys.com/)"
   ]
  },
  {
   "cell_type": "code",
   "execution_count": null,
   "metadata": {
    "slideshow": {
     "slide_type": "fragment"
    }
   },
   "outputs": [],
   "source": [
    "HTML('<iframe src=\"http://www.ansys.com\" width=\"1000\" height=\"600\"></iframe>')"
   ]
  },
  {
   "cell_type": "code",
   "execution_count": null,
   "metadata": {},
   "outputs": [],
   "source": []
  }
 ],
 "metadata": {
  "celltoolbar": "Slideshow",
  "kernelspec": {
   "display_name": "Python 3",
   "language": "python",
   "name": "python3"
  },
  "language_info": {
   "codemirror_mode": {
    "name": "ipython",
    "version": 3
   },
   "file_extension": ".py",
   "mimetype": "text/x-python",
   "name": "python",
   "nbconvert_exporter": "python",
   "pygments_lexer": "ipython3",
   "version": "3.6.7"
  }
 },
 "nbformat": 4,
 "nbformat_minor": 2
}
