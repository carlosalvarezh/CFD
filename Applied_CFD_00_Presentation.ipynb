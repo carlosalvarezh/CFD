{
 "cells": [
  {
   "cell_type": "markdown",
   "metadata": {
    "slideshow": {
     "slide_type": "slide"
    }
   },
   "source": [
    "![Imagen](http://www.eafit.edu.co/SiteCollectionImages/logo.png?raw=true \"\")\n",
    "\n",
    "\n",
    "<h1 align=\"center\">Dinámica de Fluidos Computacional Aplicada - IM0642</h1>\n",
    "\n",
    "<h1 align=\"center\">Sesión 01: Introducción\n",
    "\n",
    "<h1 align=\"center\">ESCUELA DE INGENIERÍA</h1>\n",
    "\n",
    "<h1 align=\"center\">Especialización en Turbomáquinas</h1>\n",
    "\n",
    "<h1 align=\"center\">MEDELLÍN - COLOMBIA </h1>\n",
    "\n",
    "<h1 align=\"center\">2021/01 </h1>"
   ]
  },
  {
   "cell_type": "markdown",
   "metadata": {},
   "source": [
    "<table>\n",
    " <tr align=left><td><img align=left src=\"https://github.com/carlosalvarezh/CFD_Applied/blob/master/figs/CC-BY.png?raw=true\">\n",
    " <td>Text provided under a Creative Commons Attribution license, CC-BY. All code is made available under the FSF-approved MIT license.(c) Carlos Alberto Alvarez Henao</td>\n",
    "</table>\n"
   ]
  },
  {
   "cell_type": "markdown",
   "metadata": {
    "slideshow": {
     "slide_type": "subslide"
    }
   },
   "source": [
    "*** \n",
    "\n",
    "***Docente:*** Carlos Alberto Álvarez Henao, I.C. D.Sc.\n",
    "\n",
    "***e-mail:*** calvar52@eafit.edu.co\n",
    "\n",
    "***skype:*** carlos.alberto.alvarez.henao\n",
    "\n",
    "***Herramienta:*** [Jupyter](http://jupyter.org/)\n",
    "\n",
    "***Kernel:*** Python 3.8\n",
    "\n",
    "\n",
    "***"
   ]
  },
  {
   "cell_type": "markdown",
   "metadata": {},
   "source": [
    "<a id='TOC'></a>"
   ]
  },
  {
   "cell_type": "markdown",
   "metadata": {
    "toc": true
   },
   "source": [
    "<h1>Table of Contents<span class=\"tocSkip\"></span></h1>\n",
    "<div class=\"toc\"><ul class=\"toc-item\"><li><span><a href=\"#Objetivo-general\" data-toc-modified-id=\"Objetivo-general-1\"><span class=\"toc-item-num\">1&nbsp;&nbsp;</span>Objetivo general</a></span></li><li><span><a href=\"#Metodología\" data-toc-modified-id=\"Metodología-2\"><span class=\"toc-item-num\">2&nbsp;&nbsp;</span>Metodología</a></span></li><li><span><a href=\"#Prácticas\" data-toc-modified-id=\"Prácticas-3\"><span class=\"toc-item-num\">3&nbsp;&nbsp;</span>Prácticas</a></span></li><li><span><a href=\"#Contenido\" data-toc-modified-id=\"Contenido-4\"><span class=\"toc-item-num\">4&nbsp;&nbsp;</span>Contenido</a></span></li><li><span><a href=\"#Evaluación\" data-toc-modified-id=\"Evaluación-5\"><span class=\"toc-item-num\">5&nbsp;&nbsp;</span>Evaluación</a></span></li><li><span><a href=\"#Recursos-bibliográficos\" data-toc-modified-id=\"Recursos-bibliográficos-6\"><span class=\"toc-item-num\">6&nbsp;&nbsp;</span>Recursos bibliográficos</a></span></li></ul></div>"
   ]
  },
  {
   "cell_type": "markdown",
   "metadata": {},
   "source": [
    "## Objetivo general"
   ]
  },
  {
   "cell_type": "markdown",
   "metadata": {},
   "source": [
    "> El curso provee las bases matemáticas y la aplicación de los métodos computacionales para resolver problemas en mecánica de Fluidos. Se enfoca en presentar una vista general de los modelos físicos necesarios para un estudio avanzado en la Mecánica de Fluido. Se estudian las diferentes modelos computaciones para la solución de las ecuaciones que gobiernan la mecánica de fluidos con énfasis métodos de solución discreta como Diferencias Finitas, Volúmenes Finitos, Elementos Finitos.\n",
    "\n",
    "> El curso prepara futuros usuarios del CFD para hacer el mejor uso posible de la tecnología disponible haciendo énfasis en las bases de la mecánica de fluidos,  el entendimiento de sus bases matemáticas y las aplicaciones potenciales de los modelos constitutivos aplicados a las necesidades particulares de cada uno en su respectivo campo de acción."
   ]
  },
  {
   "cell_type": "markdown",
   "metadata": {},
   "source": [
    "[Volver a la Tabla de Contenido](#TOC)"
   ]
  },
  {
   "cell_type": "markdown",
   "metadata": {},
   "source": [
    "## Metodología"
   ]
  },
  {
   "cell_type": "markdown",
   "metadata": {},
   "source": [
    "> 16 sesiones de  2 horas cada una (32 horas en total)"
   ]
  },
  {
   "cell_type": "markdown",
   "metadata": {},
   "source": [
    "[Volver a la Tabla de Contenido](#TOC)"
   ]
  },
  {
   "cell_type": "markdown",
   "metadata": {},
   "source": [
    "## Prácticas"
   ]
  },
  {
   "cell_type": "markdown",
   "metadata": {},
   "source": [
    "> A lo largo del curso se realizarán ejemplos prácticos de aplicacioń empleando principalmente el lenguaje de programación  `Pythhon`, y en otras prácticas más dirigidas se hará uso de otros tipos de software más especializados de uso libre o algunos que la Universidad cuenta con licenciamiento."
   ]
  },
  {
   "cell_type": "markdown",
   "metadata": {},
   "source": [
    "[Volver a la Tabla de Contenido](#TOC)"
   ]
  },
  {
   "cell_type": "markdown",
   "metadata": {
    "slideshow": {
     "slide_type": "slide"
    }
   },
   "source": [
    "## Contenido"
   ]
  },
  {
   "cell_type": "markdown",
   "metadata": {},
   "source": [
    "|**Clase** |**Fecha**|**Contenido** |**Actividad Evaluativa**|\n",
    "|--------:|:-------|--------------|------------------------|\n",
    "|1 |30/01/2021|Introducción a la *CFD*, Proceso de simulación| |\n",
    "|2 |06/02/2021|Python crash course, uso de Jupyter Notebook| |\n",
    "|3 |13/02/2021|Formulación diferencial para las ecuaciones de fluidos I: Derivación de las ecuaciones de conservación||\n",
    "|4 |20/02/2021|Formulación diferencial para las ecuaciones de fluidos II: Las ecuaciones de *Navier Stokes* para un fluido newtoniano||\n",
    "|5 |27/02/2021|Aspectos matemáticos de la CFD I: EDDP, Aproximación diferencias finitas, Series de Taylor, IC/BC||\n",
    "|6 |06/03/2021|Aspectos matemáticos de la CFD II: Discretización de ecuaciones, Estacionarias/No–estacionarias, Explícitas/Implícitas, Multidimensional||\n",
    "|7 |13/03/2021|Análisis de esquemas numéricos: Consistencia, estabilidad y análisis de error, Teorema de Lax, Consistencia y modificación de una EDDP, Condición CFL|Parcial (20%)|\n",
    "|8 |20/03/2021|Discretización de dominios I: Generación de Mallas||\n",
    "|9 |27/03/2021|Discretización de dominios II: Generación de Mallas||\n",
    "||29/03-03/04/2021||Semana Santa|\n",
    "|10|10/04/2021|Presentación Proyecto programación: Coordina: profesor *Daniel Felipe Tobón*||\n",
    "|11|17/04/2021|Taller práctico I: Coordina profesor *Daniel Felipe Tobón*||\n",
    "|12|24/04/2021|Taller práctico II: Coordina profesor *Daniel Felipe Tobón*||\n",
    "||01/05/2021||Festivo|\n",
    "|13|08/05/2021|*The 12 steps to Computing Navier - Stokes Equation* I: Step 01: 1D Linear Convection (Advection), Step 02: 1D Convection (shocks), Step 03: 1D Diffusion (Heat Equation), Step 04: 1D Burger's Equation||\n",
    "|14|15/05/2021|*The 12 steps to Computing Navier - Stokes Equation* II: Explicit / Implicit FD Formulas, Step 05: 2D Linear Convection (Advection), Step 06: 2D Convection (shocks), Step 07: 2D Diffusion (Heat Equation), Step 08: 2D Burger's Equation||\n",
    "|15|22/05/2021|*The 12 steps to Computing Navier - Stokes Equation* III: Step 09: Laplace Equation, Step 10: Poisson Equation, Step 11: Navier - Stokes Equations Case 1: Cavity, Step 12: Navier - Stokes Equations Case 2: Channel||\n",
    "|16|29/05/2021|Presentación Proyecto final programación: Coordina profesor *Daniel Felipe Tobón*||\n"
   ]
  },
  {
   "cell_type": "markdown",
   "metadata": {},
   "source": [
    "[Volver a la Tabla de Contenido](#TOC)"
   ]
  },
  {
   "cell_type": "markdown",
   "metadata": {},
   "source": [
    "## Evaluación"
   ]
  },
  {
   "cell_type": "markdown",
   "metadata": {
    "slideshow": {
     "slide_type": "slide"
    }
   },
   "source": [
    "- Seguimiento (Quices y Tareas): 40%\n",
    "\n",
    "- Parcial: 20%\n",
    "\n",
    "- Proyecto de Programación: 40%"
   ]
  },
  {
   "cell_type": "markdown",
   "metadata": {},
   "source": [
    "[Volver a la Tabla de Contenido](#TOC)"
   ]
  },
  {
   "cell_type": "markdown",
   "metadata": {},
   "source": [
    "## Recursos bibliográficos"
   ]
  },
  {
   "cell_type": "markdown",
   "metadata": {
    "slideshow": {
     "slide_type": "slide"
    }
   },
   "source": [
    "***Libros y documentos***\n",
    "\n",
    "- [Lorena A. Barba group - CFD Python: 12 steps to Navier-Stokes](http://lorenabarba.com/blog/cfd-python-12-steps-to-navier-stokes/)\n",
    "\n",
    "\n",
    "- [Kuzmin, Dmitri. A Guide to Numerical Methods for Transport Equations ](http://www.mathematik.uni-dortmund.de/~kuzmin/Transport.pdf)\n",
    "\n",
    "\n",
    "- [LeVeque, Randall J. Finite Difference Methods for Differential Equations](https://edisciplinas.usp.br/pluginfile.php/41896/mod_resource/content/1/LeVeque%20Finite%20Diff.pdf)\n",
    "\n",
    "\n",
    "- [CFD Online](https://www.cfd-online.com/)\n",
    "\n",
    "\n",
    "***Software***\n",
    "\n",
    "\n",
    "- [Python](https://www.python.org)\n",
    "\n",
    "\n",
    "- [Gmsh](http://gmsh.info/)\n",
    "\n",
    "\n",
    "- [Openfoam](http://www.openfoam.com)\n",
    "\n",
    "\n",
    "- [ANSYS](www.ansys.com/)\n"
   ]
  },
  {
   "cell_type": "code",
   "execution_count": null,
   "metadata": {},
   "outputs": [],
   "source": []
  }
 ],
 "metadata": {
  "kernelspec": {
   "display_name": "Python 3",
   "language": "python",
   "name": "python3"
  },
  "language_info": {
   "codemirror_mode": {
    "name": "ipython",
    "version": 3
   },
   "file_extension": ".py",
   "mimetype": "text/x-python",
   "name": "python",
   "nbconvert_exporter": "python",
   "pygments_lexer": "ipython3",
   "version": "3.6.10"
  },
  "toc": {
   "base_numbering": 1,
   "nav_menu": {},
   "number_sections": true,
   "sideBar": true,
   "skip_h1_title": true,
   "title_cell": "Table of Contents",
   "title_sidebar": "Contents",
   "toc_cell": true,
   "toc_position": {},
   "toc_section_display": true,
   "toc_window_display": true
  }
 },
 "nbformat": 4,
 "nbformat_minor": 2
}
